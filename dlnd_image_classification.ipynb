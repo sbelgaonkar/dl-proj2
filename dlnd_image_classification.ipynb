{
 "cells": [
  {
   "cell_type": "markdown",
   "metadata": {
    "collapsed": true,
    "deletable": true,
    "editable": true
   },
   "source": [
    "# Image Classification\n",
    "In this project, you'll classify images from the [CIFAR-10 dataset](https://www.cs.toronto.edu/~kriz/cifar.html).  The dataset consists of airplanes, dogs, cats, and other objects. You'll preprocess the images, then train a convolutional neural network on all the samples. The images need to be normalized and the labels need to be one-hot encoded.  You'll get to apply what you learned and build a convolutional, max pooling, dropout, and fully connected layers.  At the end, you'll get to see your neural network's predictions on the sample images.\n",
    "## Get the Data\n",
    "Run the following cell to download the [CIFAR-10 dataset for python](https://www.cs.toronto.edu/~kriz/cifar-10-python.tar.gz)."
   ]
  },
  {
   "cell_type": "code",
   "execution_count": 1,
   "metadata": {
    "collapsed": false,
    "deletable": true,
    "editable": true
   },
   "outputs": [
    {
     "name": "stderr",
     "output_type": "stream",
     "text": [
      "CIFAR-10 Dataset: 171MB [00:41, 4.06MB/s]                              \n"
     ]
    },
    {
     "name": "stdout",
     "output_type": "stream",
     "text": [
      "All files found!\n"
     ]
    }
   ],
   "source": [
    "\"\"\"\n",
    "DON'T MODIFY ANYTHING IN THIS CELL THAT IS BELOW THIS LINE\n",
    "\"\"\"\n",
    "from urllib.request import urlretrieve\n",
    "from os.path import isfile, isdir\n",
    "from tqdm import tqdm\n",
    "import problem_unittests as tests\n",
    "import tarfile\n",
    "\n",
    "cifar10_dataset_folder_path = 'cifar-10-batches-py'\n",
    "\n",
    "class DLProgress(tqdm):\n",
    "    last_block = 0\n",
    "\n",
    "    def hook(self, block_num=1, block_size=1, total_size=None):\n",
    "        self.total = total_size\n",
    "        self.update((block_num - self.last_block) * block_size)\n",
    "        self.last_block = block_num\n",
    "\n",
    "if not isfile('cifar-10-python.tar.gz'):\n",
    "    with DLProgress(unit='B', unit_scale=True, miniters=1, desc='CIFAR-10 Dataset') as pbar:\n",
    "        urlretrieve(\n",
    "            'https://www.cs.toronto.edu/~kriz/cifar-10-python.tar.gz',\n",
    "            'cifar-10-python.tar.gz',\n",
    "            pbar.hook)\n",
    "\n",
    "if not isdir(cifar10_dataset_folder_path):\n",
    "    with tarfile.open('cifar-10-python.tar.gz') as tar:\n",
    "        tar.extractall()\n",
    "        tar.close()\n",
    "\n",
    "\n",
    "tests.test_folder_path(cifar10_dataset_folder_path)"
   ]
  },
  {
   "cell_type": "markdown",
   "metadata": {
    "deletable": true,
    "editable": true
   },
   "source": [
    "## Explore the Data\n",
    "The dataset is broken into batches to prevent your machine from running out of memory.  The CIFAR-10 dataset consists of 5 batches, named `data_batch_1`, `data_batch_2`, etc.. Each batch contains the labels and images that are one of the following:\n",
    "* airplane\n",
    "* automobile\n",
    "* bird\n",
    "* cat\n",
    "* deer\n",
    "* dog\n",
    "* frog\n",
    "* horse\n",
    "* ship\n",
    "* truck\n",
    "\n",
    "Understanding a dataset is part of making predictions on the data.  Play around with the code cell below by changing the `batch_id` and `sample_id`. The `batch_id` is the id for a batch (1-5). The `sample_id` is the id for a image and label pair in the batch.\n",
    "\n",
    "Ask yourself \"What are all possible labels?\", \"What is the range of values for the image data?\", \"Are the labels in order or random?\".  Answers to questions like these will help you preprocess the data and end up with better predictions."
   ]
  },
  {
   "cell_type": "code",
   "execution_count": 2,
   "metadata": {
    "collapsed": false,
    "deletable": true,
    "editable": true
   },
   "outputs": [
    {
     "name": "stdout",
     "output_type": "stream",
     "text": [
      "\n",
      "Stats of batch 1:\n",
      "Samples: 10000\n",
      "Label Counts: {0: 1005, 1: 974, 2: 1032, 3: 1016, 4: 999, 5: 937, 6: 1030, 7: 1001, 8: 1025, 9: 981}\n",
      "First 20 Labels: [6, 9, 9, 4, 1, 1, 2, 7, 8, 3, 4, 7, 7, 2, 9, 9, 9, 3, 2, 6]\n",
      "\n",
      "Example of Image 5:\n",
      "Image - Min Value: 0 Max Value: 252\n",
      "Image - Shape: (32, 32, 3)\n",
      "Label - Label Id: 1 Name: automobile\n"
     ]
    },
    {
     "data": {
      "image/png": "[encoded data removed]",
      "text/plain": [
       "<matplotlib.figure.Figure at 0x7f55613ffa20>"
      ]
     },
     "metadata": {
      "image/png": {
       "height": 250,
       "width": 253
      }
     },
     "output_type": "display_data"
    }
   ],
   "source": [
    "%matplotlib inline\n",
    "%config InlineBackend.figure_format = 'retina'\n",
    "\n",
    "import helper\n",
    "import numpy as np\n",
    "\n",
    "# Explore the dataset\n",
    "batch_id = 1\n",
    "sample_id = 5\n",
    "helper.display_stats(cifar10_dataset_folder_path, batch_id, sample_id)"
   ]
  },
  {
   "cell_type": "markdown",
   "metadata": {
    "deletable": true,
    "editable": true
   },
   "source": [
    "## Implement Preprocess Functions\n",
    "### Normalize\n",
    "In the cell below, implement the `normalize` function to take in image data, `x`, and return it as a normalized Numpy array. The values should be in the range of 0 to 1, inclusive.  The return object should be the same shape as `x`."
   ]
  },
  {
   "cell_type": "code",
   "execution_count": 3,
   "metadata": {
    "collapsed": false,
    "deletable": true,
    "editable": true
   },
   "outputs": [
    {
     "name": "stdout",
     "output_type": "stream",
     "text": [
      "Tests Passed\n"
     ]
    }
   ],
   "source": [
    "def normalize(x):\n",
    "    \"\"\"\n",
    "    Normalize a list of sample image data in the range of 0 to 1\n",
    "    : x: List of image data.  The image shape is (32, 32, 3)\n",
    "    : return: Numpy array of normalize data\n",
    "    \"\"\"\n",
    "    # TODO: Implement Function\n",
    "    import numpy as np\n",
    "    x = np.array(x)\n",
    "    xmin = x.min()\n",
    "    xmax = x.max()\n",
    "    x = (x - xmin) / (xmax - xmin)\n",
    "    return x\n",
    "\n",
    "\"\"\"\n",
    "DON'T MODIFY ANYTHING IN THIS CELL THAT IS BELOW THIS LINE\n",
    "\"\"\"\n",
    "tests.test_normalize(normalize)"
   ]
  },
  {
   "cell_type": "markdown",
   "metadata": {
    "deletable": true,
    "editable": true
   },
   "source": [
    "### One-hot encode\n",
    "Just like the previous code cell, you'll be implementing a function for preprocessing.  This time, you'll implement the `one_hot_encode` function. The input, `x`, are a list of labels.  Implement the function to return the list of labels as One-Hot encoded Numpy array.  The possible values for labels are 0 to 9. The one-hot encoding function should return the same encoding for each value between each call to `one_hot_encode`.  Make sure to save the map of encodings outside the function.\n",
    "\n",
    "Hint: Don't reinvent the wheel."
   ]
  },
  {
   "cell_type": "code",
   "execution_count": 4,
   "metadata": {
    "collapsed": false,
    "deletable": true,
    "editable": true
   },
   "outputs": [
    {
     "name": "stdout",
     "output_type": "stream",
     "text": [
      "Tests Passed\n"
     ]
    }
   ],
   "source": [
    "def one_hot_encode(x):\n",
    "    \"\"\"\n",
    "    One hot encode a list of sample labels. Return a one-hot encoded vector for each label.\n",
    "    : x: List of sample Labels\n",
    "    : return: Numpy array of one-hot encoded labels\n",
    "    \"\"\"\n",
    "    # TODO: Implement Function\n",
    "    import numpy as np\n",
    "    one_hot = np.eye(10)[x]\n",
    "    return one_hot\n",
    "\n",
    "\"\"\"\n",
    "DON'T MODIFY ANYTHING IN THIS CELL THAT IS BELOW THIS LINE\n",
    "\"\"\"\n",
    "tests.test_one_hot_encode(one_hot_encode)"
   ]
  },
  {
   "cell_type": "markdown",
   "metadata": {
    "deletable": true,
    "editable": true
   },
   "source": [
    "### Randomize Data\n",
    "As you saw from exploring the data above, the order of the samples are randomized.  It doesn't hurt to randomize it again, but you don't need to for this dataset."
   ]
  },
  {
   "cell_type": "markdown",
   "metadata": {
    "deletable": true,
    "editable": true
   },
   "source": [
    "## Preprocess all the data and save it\n",
    "Running the code cell below will preprocess all the CIFAR-10 data and save it to file. The code below also uses 10% of the training data for validation."
   ]
  },
  {
   "cell_type": "code",
   "execution_count": 5,
   "metadata": {
    "collapsed": false,
    "deletable": true,
    "editable": true
   },
   "outputs": [],
   "source": [
    "\"\"\"\n",
    "DON'T MODIFY ANYTHING IN THIS CELL\n",
    "\"\"\"\n",
    "# Preprocess Training, Validation, and Testing Data\n",
    "helper.preprocess_and_save_data(cifar10_dataset_folder_path, normalize, one_hot_encode)"
   ]
  },
  {
   "cell_type": "markdown",
   "metadata": {
    "deletable": true,
    "editable": true
   },
   "source": [
    "# Check Point\n",
    "This is your first checkpoint.  If you ever decide to come back to this notebook or have to restart the notebook, you can start from here.  The preprocessed data has been saved to disk."
   ]
  },
  {
   "cell_type": "code",
   "execution_count": 4,
   "metadata": {
    "collapsed": true,
    "deletable": true,
    "editable": true
   },
   "outputs": [],
   "source": [
    "\"\"\"\n",
    "DON'T MODIFY ANYTHING IN THIS CELL\n",
    "\"\"\"\n",
    "import pickle\n",
    "import problem_unittests as tests\n",
    "import helper\n",
    "\n",
    "# Load the Preprocessed Validation data\n",
    "valid_features, valid_labels = pickle.load(open('preprocess_validation.p', mode='rb'))"
   ]
  },
  {
   "cell_type": "markdown",
   "metadata": {
    "deletable": true,
    "editable": true
   },
   "source": [
    "## Build the network\n",
    "For the neural network, you'll build each layer into a function.  Most of the code you've seen has been outside of functions. To test your code more thoroughly, we require that you put each layer in a function.  This allows us to give you better feedback and test for simple mistakes using our unittests before you submit your project.\n",
    "\n",
    ">**Note:** If you're finding it hard to dedicate enough time for this course each week, we've provided a small shortcut to this part of the project. In the next couple of problems, you'll have the option to use classes from the [TensorFlow Layers](https://www.tensorflow.org/api_docs/python/tf/layers) or [TensorFlow Layers (contrib)](https://www.tensorflow.org/api_guides/python/contrib.layers) packages to build each layer, except the layers you build in the \"Convolutional and Max Pooling Layer\" section.  TF Layers is similar to Keras's and TFLearn's abstraction to layers, so it's easy to pickup.\n",
    "\n",
    ">However, if you would like to get the most out of this course, try to solve all the problems _without_ using anything from the TF Layers packages. You **can** still use classes from other packages that happen to have the same name as ones you find in TF Layers! For example, instead of using the TF Layers version of the `conv2d` class, [tf.layers.conv2d](https://www.tensorflow.org/api_docs/python/tf/layers/conv2d), you would want to use the TF Neural Network version of `conv2d`, [tf.nn.conv2d](https://www.tensorflow.org/api_docs/python/tf/nn/conv2d). \n",
    "\n",
    "Let's begin!\n",
    "\n",
    "### Input\n",
    "The neural network needs to read the image data, one-hot encoded labels, and dropout keep probability. Implement the following functions\n",
    "* Implement `neural_net_image_input`\n",
    " * Return a [TF Placeholder](https://www.tensorflow.org/api_docs/python/tf/placeholder)\n",
    " * Set the shape using `image_shape` with batch size set to `None`.\n",
    " * Name the TensorFlow placeholder \"x\" using the TensorFlow `name` parameter in the [TF Placeholder](https://www.tensorflow.org/api_docs/python/tf/placeholder).\n",
    "* Implement `neural_net_label_input`\n",
    " * Return a [TF Placeholder](https://www.tensorflow.org/api_docs/python/tf/placeholder)\n",
    " * Set the shape using `n_classes` with batch size set to `None`.\n",
    " * Name the TensorFlow placeholder \"y\" using the TensorFlow `name` parameter in the [TF Placeholder](https://www.tensorflow.org/api_docs/python/tf/placeholder).\n",
    "* Implement `neural_net_keep_prob_input`\n",
    " * Return a [TF Placeholder](https://www.tensorflow.org/api_docs/python/tf/placeholder) for dropout keep probability.\n",
    " * Name the TensorFlow placeholder \"keep_prob\" using the TensorFlow `name` parameter in the [TF Placeholder](https://www.tensorflow.org/api_docs/python/tf/placeholder).\n",
    "\n",
    "These names will be used at the end of the project to load your saved model.\n",
    "\n",
    "Note: `None` for shapes in TensorFlow allow for a dynamic size."
   ]
  },
  {
   "cell_type": "code",
   "execution_count": 5,
   "metadata": {
    "collapsed": false,
    "deletable": true,
    "editable": true
   },
   "outputs": [
    {
     "name": "stdout",
     "output_type": "stream",
     "text": [
      "Image Input Tests Passed.\n",
      "Label Input Tests Passed.\n",
      "Keep Prob Tests Passed.\n"
     ]
    }
   ],
   "source": [
    "import tensorflow as tf\n",
    "\n",
    "def neural_net_image_input(image_shape):\n",
    "    \"\"\"\n",
    "    Return a Tensor for a bach of image input\n",
    "    : image_shape: Shape of the images\n",
    "    : return: Tensor for image input.\n",
    "    \"\"\"\n",
    "    # TODO: Implement Function\n",
    "    return tf.placeholder(tf.float32, [None, image_shape[0], image_shape[1], image_shape[2]], name =\"x\")\n",
    "\n",
    "\n",
    "def neural_net_label_input(n_classes):\n",
    "    \"\"\"\n",
    "    Return a Tensor for a batch of label input\n",
    "    : n_classes: Number of classes\n",
    "    : return: Tensor for label input.\n",
    "    \"\"\"\n",
    "    # TODO: Implement Function\n",
    "    return tf.placeholder(tf.float32, [None, n_classes], name=\"y\")\n",
    "\n",
    "\n",
    "def neural_net_keep_prob_input():\n",
    "    \"\"\"\n",
    "    Return a Tensor for keep probability\n",
    "    : return: Tensor for keep probability.\n",
    "    \"\"\"\n",
    "    # TODO: Implement Function\n",
    "    return tf.placeholder(tf.float32, name=\"keep_prob\")\n",
    "\n",
    "\n",
    "\"\"\"\n",
    "DON'T MODIFY ANYTHING IN THIS CELL THAT IS BELOW THIS LINE\n",
    "\"\"\"\n",
    "tf.reset_default_graph()\n",
    "tests.test_nn_image_inputs(neural_net_image_input)\n",
    "tests.test_nn_label_inputs(neural_net_label_input)\n",
    "tests.test_nn_keep_prob_inputs(neural_net_keep_prob_input)"
   ]
  },
  {
   "cell_type": "markdown",
   "metadata": {
    "deletable": true,
    "editable": true
   },
   "source": [
    "### Convolution and Max Pooling Layer\n",
    "Convolution layers have a lot of success with images. For this code cell, you should implement the function `conv2d_maxpool` to apply convolution then max pooling:\n",
    "* Create the weight and bias using `conv_ksize`, `conv_num_outputs` and the shape of `x_tensor`.\n",
    "* Apply a convolution to `x_tensor` using weight and `conv_strides`.\n",
    " * We recommend you use same padding, but you're welcome to use any padding.\n",
    "* Add bias\n",
    "* Add a nonlinear activation to the convolution.\n",
    "* Apply Max Pooling using `pool_ksize` and `pool_strides`.\n",
    " * We recommend you use same padding, but you're welcome to use any padding.\n",
    "\n",
    "**Note:** You **can't** use [TensorFlow Layers](https://www.tensorflow.org/api_docs/python/tf/layers) or [TensorFlow Layers (contrib)](https://www.tensorflow.org/api_guides/python/contrib.layers) for **this** layer, but you can still use TensorFlow's [Neural Network](https://www.tensorflow.org/api_docs/python/tf/nn) package. You may still use the shortcut option for all the **other** layers."
   ]
  },
  {
   "cell_type": "code",
   "execution_count": 6,
   "metadata": {
    "collapsed": false,
    "deletable": true,
    "editable": true
   },
   "outputs": [
    {
     "name": "stdout",
     "output_type": "stream",
     "text": [
      "Tests Passed\n"
     ]
    }
   ],
   "source": [
    "def conv2d_maxpool(x_tensor, conv_num_outputs, conv_ksize, conv_strides, pool_ksize, pool_strides):\n",
    "    \"\"\"\n",
    "    Apply convolution then max pooling to x_tensor\n",
    "    :param x_tensor: TensorFlow Tensor\n",
    "    :param conv_num_outputs: Number of outputs for the convolutional layer\n",
    "    :param conv_ksize: kernal size 2-D Tuple for the convolutional layer\n",
    "    :param conv_strides: Stride 2-D Tuple for convolution\n",
    "    :param pool_ksize: kernal size 2-D Tuple for pool\n",
    "    :param pool_strides: Stride 2-D Tuple for pool\n",
    "    : return: A tensor that represents convolution and max pooling of x_tensor\n",
    "    \"\"\"\n",
    "    # TODO: Implement Function\n",
    "    filter_height = conv_ksize[0]\n",
    "    filter_width = conv_ksize[1]\n",
    "    color_channels = x_tensor.get_shape().as_list()[-1]\n",
    "\n",
    "    weights = tf.Variable(tf.truncated_normal([filter_height, filter_width, color_channels, conv_num_outputs], stddev=0.01))\n",
    "    biases = tf.Variable(tf.zeros([conv_num_outputs], dtype=tf.float32))\n",
    "    \n",
    "    conv_strides = [1, conv_strides[0], conv_strides[1], 1]\n",
    "    x_tensor = tf.nn.conv2d(x_tensor, weights, strides=conv_strides, padding='VALID')\n",
    "    \n",
    "    x_tensor = tf.nn.bias_add(x_tensor, biases)\n",
    "    \n",
    "    x_tensor = tf.nn.relu(x_tensor)\n",
    "    \n",
    "    pool_strides = [1, pool_strides[0], pool_strides[1], 1]\n",
    "    pool_ksize = [1, pool_ksize[0], pool_ksize[1], 1]\n",
    "    x_tensor = tf.nn.max_pool(x_tensor, pool_ksize, pool_strides, padding='VALID')\n",
    "    \n",
    "    return x_tensor\n",
    "\n",
    "\n",
    "\"\"\"\n",
    "DON'T MODIFY ANYTHING IN THIS CELL THAT IS BELOW THIS LINE\n",
    "\"\"\"\n",
    "tests.test_con_pool(conv2d_maxpool)"
   ]
  },
  {
   "cell_type": "markdown",
   "metadata": {
    "deletable": true,
    "editable": true
   },
   "source": [
    "### Flatten Layer\n",
    "Implement the `flatten` function to change the dimension of `x_tensor` from a 4-D tensor to a 2-D tensor.  The output should be the shape (*Batch Size*, *Flattened Image Size*). Shortcut option: you can use classes from the [TensorFlow Layers](https://www.tensorflow.org/api_docs/python/tf/layers) or [TensorFlow Layers (contrib)](https://www.tensorflow.org/api_guides/python/contrib.layers) packages for this layer. For more of a challenge, only use other TensorFlow packages."
   ]
  },
  {
   "cell_type": "code",
   "execution_count": 7,
   "metadata": {
    "collapsed": false,
    "deletable": true,
    "editable": true
   },
   "outputs": [
    {
     "name": "stdout",
     "output_type": "stream",
     "text": [
      "Tests Passed\n"
     ]
    }
   ],
   "source": [
    "def flatten(x_tensor):\n",
    "    \"\"\"\n",
    "    Flatten x_tensor to (Batch Size, Flattened Image Size)\n",
    "    : x_tensor: A tensor of size (Batch Size, ...), where ... are the image dimensions.\n",
    "    : return: A tensor of size (Batch Size, Flattened Image Size).\n",
    "    \"\"\"\n",
    "    # TODO: Implement Function\n",
    "    shape = x_tensor.get_shape().as_list()\n",
    "    size = shape[1] * shape[2] * shape[3]\n",
    "    return tf.reshape(x_tensor, [-1, size])\n",
    "\n",
    "\n",
    "\"\"\"\n",
    "DON'T MODIFY ANYTHING IN THIS CELL THAT IS BELOW THIS LINE\n",
    "\"\"\"\n",
    "tests.test_flatten(flatten)"
   ]
  },
  {
   "cell_type": "markdown",
   "metadata": {
    "deletable": true,
    "editable": true
   },
   "source": [
    "### Fully-Connected Layer\n",
    "Implement the `fully_conn` function to apply a fully connected layer to `x_tensor` with the shape (*Batch Size*, *num_outputs*). Shortcut option: you can use classes from the [TensorFlow Layers](https://www.tensorflow.org/api_docs/python/tf/layers) or [TensorFlow Layers (contrib)](https://www.tensorflow.org/api_guides/python/contrib.layers) packages for this layer. For more of a challenge, only use other TensorFlow packages."
   ]
  },
  {
   "cell_type": "code",
   "execution_count": 10,
   "metadata": {
    "collapsed": false,
    "deletable": true,
    "editable": true
   },
   "outputs": [
    {
     "name": "stdout",
     "output_type": "stream",
     "text": [
      "Tests Passed\n"
     ]
    }
   ],
   "source": [
    "def fully_conn(x_tensor, num_outputs):\n",
    "    \"\"\"\n",
    "    Apply a fully connected layer to x_tensor using weight and bias\n",
    "    : x_tensor: A 2-D tensor where the first dimension is batch size.\n",
    "    : num_outputs: The number of output that the new tensor should be.\n",
    "    : return: A 2-D tensor where the second dimension is num_outputs.\n",
    "    \"\"\"\n",
    "    # TODO: Implement Function\n",
    "    return tf.contrib.layers.fully_connected(inputs = x_tensor, num_outputs=num_outputs, activation_fn=tf.nn.relu)\n",
    "\n",
    "\n",
    "\"\"\"\n",
    "DON'T MODIFY ANYTHING IN THIS CELL THAT IS BELOW THIS LINE\n",
    "\"\"\"\n",
    "tests.test_fully_conn(fully_conn)"
   ]
  },
  {
   "cell_type": "markdown",
   "metadata": {
    "deletable": true,
    "editable": true
   },
   "source": [
    "### Output Layer\n",
    "Implement the `output` function to apply a fully connected layer to `x_tensor` with the shape (*Batch Size*, *num_outputs*). Shortcut option: you can use classes from the [TensorFlow Layers](https://www.tensorflow.org/api_docs/python/tf/layers) or [TensorFlow Layers (contrib)](https://www.tensorflow.org/api_guides/python/contrib.layers) packages for this layer. For more of a challenge, only use other TensorFlow packages.\n",
    "\n",
    "**Note:** Activation, softmax, or cross entropy should **not** be applied to this."
   ]
  },
  {
   "cell_type": "code",
   "execution_count": 11,
   "metadata": {
    "collapsed": false,
    "deletable": true,
    "editable": true
   },
   "outputs": [
    {
     "name": "stdout",
     "output_type": "stream",
     "text": [
      "Tests Passed\n"
     ]
    }
   ],
   "source": [
    "def output(x_tensor, num_outputs):\n",
    "    \"\"\"\n",
    "    Apply a output layer to x_tensor using weight and bias\n",
    "    : x_tensor: A 2-D tensor where the first dimension is batch size.\n",
    "    : num_outputs: The number of output that the new tensor should be.\n",
    "    : return: A 2-D tensor where the second dimension is num_outputs.\n",
    "    \"\"\"\n",
    "    # TODO: Implement Function\n",
    "    return tf.contrib.layers.fully_connected(inputs = x_tensor, num_outputs=num_outputs)\n",
    "\n",
    "\n",
    "\"\"\"\n",
    "DON'T MODIFY ANYTHING IN THIS CELL THAT IS BELOW THIS LINE\n",
    "\"\"\"\n",
    "tests.test_output(output)"
   ]
  },
  {
   "cell_type": "markdown",
   "metadata": {
    "deletable": true,
    "editable": true
   },
   "source": [
    "### Create Convolutional Model\n",
    "Implement the function `conv_net` to create a convolutional neural network model. The function takes in a batch of images, `x`, and outputs logits.  Use the layers you created above to create this model:\n",
    "\n",
    "* Apply 1, 2, or 3 Convolution and Max Pool layers\n",
    "* Apply a Flatten Layer\n",
    "* Apply 1, 2, or 3 Fully Connected Layers\n",
    "* Apply an Output Layer\n",
    "* Return the output\n",
    "* Apply [TensorFlow's Dropout](https://www.tensorflow.org/api_docs/python/tf/nn/dropout) to one or more layers in the model using `keep_prob`. "
   ]
  },
  {
   "cell_type": "code",
   "execution_count": 12,
   "metadata": {
    "collapsed": false,
    "deletable": true,
    "editable": true
   },
   "outputs": [
    {
     "name": "stdout",
     "output_type": "stream",
     "text": [
      "Neural Network Built!\n"
     ]
    }
   ],
   "source": [
    "def conv_net(x, keep_prob):\n",
    "    \"\"\"\n",
    "    Create a convolutional neural network model\n",
    "    : x: Placeholder tensor that holds image data.\n",
    "    : keep_prob: Placeholder tensor that hold dropout keep probability.\n",
    "    : return: Tensor that represents logits\n",
    "    \"\"\"\n",
    "    # TODO: Apply 1, 2, or 3 Convolution and Max Pool layers\n",
    "    #    Play around with different number of outputs, kernel size and stride\n",
    "    # Function Definition from Above:\n",
    "    #    conv2d_maxpool(x_tensor, conv_num_outputs, conv_ksize, conv_strides, pool_ksize, pool_strides)\n",
    "    conv1 = conv2d_maxpool(x,       256, (8,8), (2,2), (4,4), (2,2))\n",
    "\n",
    "    # conv2 = conv2d_maxpool(conv1,   128, (4,4), (1,1), (2,2), (2,2))\n",
    "    # conv3 = conv2d_maxpool(conv1,  64, (1,1), (1,1), (1,1), (2,2))\n",
    "    \n",
    "    convd = tf.nn.dropout(conv1, keep_prob)\n",
    "    \n",
    "    # TODO: Apply a Flatten Layer\n",
    "    # Function Definition from Above:\n",
    "    #   flatten(x_tensor)\n",
    "    flatconv = flatten(convd)\n",
    "\n",
    "    # TODO: Apply 1, 2, or 3 Fully Connected Layers\n",
    "    #    Play around with different number of outputs\n",
    "    # Function Definition from Above:\n",
    "    #   fully_conn(x_tensor, num_outputs)\n",
    "    fcconv1 = fully_conn(flatconv, 256)\n",
    "    fcconv2 = fully_conn(fcconv1, 128)\n",
    "    fcconv3 = fully_conn(fcconv2, 64)\n",
    "    fcconvd1 = tf.nn.dropout(fcconv3, keep_prob)\n",
    "\n",
    "    \n",
    "    # TODO: Apply an Output Layer\n",
    "    #    Set this to the number of classes\n",
    "    # Function Definition from Above:\n",
    "    #   output(x_tensor, num_outputs)\n",
    "    x_tensor = output(fcconvd1, 10)\n",
    "    \n",
    "    # TODO: return output\n",
    "    return x_tensor\n",
    "\n",
    "\n",
    "\"\"\"\n",
    "DON'T MODIFY ANYTHING IN THIS CELL THAT IS BELOW THIS LINE\n",
    "\"\"\"\n",
    "\n",
    "##############################\n",
    "## Build the Neural Network ##\n",
    "##############################\n",
    "\n",
    "# Remove previous weights, bias, inputs, etc..\n",
    "tf.reset_default_graph()\n",
    "\n",
    "# Inputs\n",
    "x = neural_net_image_input((32, 32, 3))\n",
    "y = neural_net_label_input(10)\n",
    "keep_prob = neural_net_keep_prob_input()\n",
    "\n",
    "# Model\n",
    "logits = conv_net(x, keep_prob)\n",
    "\n",
    "# Name logits Tensor, so that is can be loaded from disk after training\n",
    "logits = tf.identity(logits, name='logits')\n",
    "\n",
    "# Loss and Optimizer\n",
    "cost = tf.reduce_mean(tf.nn.softmax_cross_entropy_with_logits(logits=logits, labels=y))\n",
    "optimizer = tf.train.AdamOptimizer().minimize(cost)\n",
    "\n",
    "# Accuracy\n",
    "correct_pred = tf.equal(tf.argmax(logits, 1), tf.argmax(y, 1))\n",
    "accuracy = tf.reduce_mean(tf.cast(correct_pred, tf.float32), name='accuracy')\n",
    "\n",
    "tests.test_conv_net(conv_net)"
   ]
  },
  {
   "cell_type": "markdown",
   "metadata": {
    "deletable": true,
    "editable": true
   },
   "source": [
    "## Train the Neural Network\n",
    "### Single Optimization\n",
    "Implement the function `train_neural_network` to do a single optimization.  The optimization should use `optimizer` to optimize in `session` with a `feed_dict` of the following:\n",
    "* `x` for image input\n",
    "* `y` for labels\n",
    "* `keep_prob` for keep probability for dropout\n",
    "\n",
    "This function will be called for each batch, so `tf.global_variables_initializer()` has already been called.\n",
    "\n",
    "Note: Nothing needs to be returned. This function is only optimizing the neural network."
   ]
  },
  {
   "cell_type": "code",
   "execution_count": 16,
   "metadata": {
    "collapsed": false,
    "deletable": true,
    "editable": true
   },
   "outputs": [
    {
     "name": "stdout",
     "output_type": "stream",
     "text": [
      "Tests Passed\n"
     ]
    }
   ],
   "source": [
    "def train_neural_network(session, optimizer, keep_probability, feature_batch, label_batch):\n",
    "    \"\"\"\n",
    "    Optimize the session on a batch of images and labels\n",
    "    : session: Current TensorFlow session\n",
    "    : optimizer: TensorFlow optimizer function\n",
    "    : keep_probability: keep probability\n",
    "    : feature_batch: Batch of Numpy image data\n",
    "    : label_batch: Batch of Numpy label data\n",
    "    \"\"\"\n",
    "    # TODO: Implement Function\n",
    "    session.run(optimizer, feed_dict={x: feature_batch, y: label_batch, keep_prob: keep_probability})\n",
    "\n",
    "\n",
    "\"\"\"\n",
    "DON'T MODIFY ANYTHING IN THIS CELL THAT IS BELOW THIS LINE\n",
    "\"\"\"\n",
    "tests.test_train_nn(train_neural_network)"
   ]
  },
  {
   "cell_type": "markdown",
   "metadata": {
    "deletable": true,
    "editable": true
   },
   "source": [
    "### Show Stats\n",
    "Implement the function `print_stats` to print loss and validation accuracy.  Use the global variables `valid_features` and `valid_labels` to calculate validation accuracy.  Use a keep probability of `1.0` to calculate the loss and validation accuracy."
   ]
  },
  {
   "cell_type": "code",
   "execution_count": 20,
   "metadata": {
    "collapsed": false,
    "deletable": true,
    "editable": true
   },
   "outputs": [],
   "source": [
    "def print_stats(session, feature_batch, label_batch, cost, accuracy):\n",
    "    \"\"\"\n",
    "    Print information about loss and validation accuracy\n",
    "    : session: Current TensorFlow session\n",
    "    : feature_batch: Batch of Numpy image data\n",
    "    : label_batch: Batch of Numpy label data\n",
    "    : cost: TensorFlow cost function\n",
    "    : accuracy: TensorFlow accuracy function\n",
    "    \"\"\"\n",
    "    # TODO: Implement Function\n",
    "    loss = session.run(cost, feed_dict={x: valid_features, y: valid_labels, keep_prob: 1.0})\n",
    "    accuracy = session.run(accuracy, feed_dict={x: valid_features, y: valid_labels, keep_prob: 1.0})\n",
    "    print(\"Loss: {}\".format(loss))\n",
    "    print(\"Accuracy: {}\".format(accuracy))\n"
   ]
  },
  {
   "cell_type": "markdown",
   "metadata": {
    "deletable": true,
    "editable": true
   },
   "source": [
    "### Hyperparameters\n",
    "Tune the following parameters:\n",
    "* Set `epochs` to the number of iterations until the network stops learning or start overfitting\n",
    "* Set `batch_size` to the highest number that your machine has memory for.  Most people set them to common sizes of memory:\n",
    " * 64\n",
    " * 128\n",
    " * 256\n",
    " * ...\n",
    "* Set `keep_probability` to the probability of keeping a node using dropout"
   ]
  },
  {
   "cell_type": "code",
   "execution_count": 21,
   "metadata": {
    "collapsed": true,
    "deletable": true,
    "editable": true
   },
   "outputs": [],
   "source": [
    "# TODO: Tune Parameters\n",
    "epochs = 40\n",
    "batch_size = 256\n",
    "keep_probability = 0.5"
   ]
  },
  {
   "cell_type": "markdown",
   "metadata": {
    "deletable": true,
    "editable": true
   },
   "source": [
    "### Train on a Single CIFAR-10 Batch\n",
    "Instead of training the neural network on all the CIFAR-10 batches of data, let's use a single batch. This should save time while you iterate on the model to get a better accuracy.  Once the final validation accuracy is 50% or greater, run the model on all the data in the next section."
   ]
  },
  {
   "cell_type": "code",
   "execution_count": 23,
   "metadata": {
    "collapsed": false,
    "deletable": true,
    "editable": true
   },
   "outputs": [
    {
     "name": "stdout",
     "output_type": "stream",
     "text": [
      "Checking the Training on a Single Batch...\n",
      "Epoch  1, CIFAR-10 Batch 1:  Loss: 2.25685453414917\n",
      "Accuracy: 0.18759998679161072\n",
      "Epoch  2, CIFAR-10 Batch 1:  Loss: 2.0806827545166016\n",
      "Accuracy: 0.23679998517036438\n",
      "Epoch  3, CIFAR-10 Batch 1:  Loss: 1.9099724292755127\n",
      "Accuracy: 0.3172000050544739\n",
      "Epoch  4, CIFAR-10 Batch 1:  Loss: 1.7819795608520508\n",
      "Accuracy: 0.37619999051094055\n",
      "Epoch  5, CIFAR-10 Batch 1:  Loss: 1.7169082164764404\n",
      "Accuracy: 0.3957999348640442\n",
      "Epoch  6, CIFAR-10 Batch 1:  Loss: 1.679904580116272\n",
      "Accuracy: 0.4055999517440796\n",
      "Epoch  7, CIFAR-10 Batch 1:  Loss: 1.6626067161560059\n",
      "Accuracy: 0.4124000072479248\n",
      "Epoch  8, CIFAR-10 Batch 1:  Loss: 1.5667290687561035\n",
      "Accuracy: 0.444599986076355\n",
      "Epoch  9, CIFAR-10 Batch 1:  Loss: 1.5243704319000244\n",
      "Accuracy: 0.4517999589443207\n",
      "Epoch 10, CIFAR-10 Batch 1:  Loss: 1.5255861282348633\n",
      "Accuracy: 0.4503999650478363\n",
      "Epoch 11, CIFAR-10 Batch 1:  Loss: 1.4828780889511108\n",
      "Accuracy: 0.47579994797706604\n",
      "Epoch 12, CIFAR-10 Batch 1:  Loss: 1.4706628322601318\n",
      "Accuracy: 0.4615999460220337\n",
      "Epoch 13, CIFAR-10 Batch 1:  Loss: 1.4755083322525024\n",
      "Accuracy: 0.4643999934196472\n",
      "Epoch 14, CIFAR-10 Batch 1:  Loss: 1.4427525997161865\n",
      "Accuracy: 0.47419998049736023\n",
      "Epoch 15, CIFAR-10 Batch 1:  Loss: 1.4185640811920166\n",
      "Accuracy: 0.48499995470046997\n",
      "Epoch 16, CIFAR-10 Batch 1:  Loss: 1.4011520147323608\n",
      "Accuracy: 0.49539995193481445\n",
      "Epoch 17, CIFAR-10 Batch 1:  Loss: 1.4040800333023071\n",
      "Accuracy: 0.4923999309539795\n",
      "Epoch 18, CIFAR-10 Batch 1:  Loss: 1.3926279544830322\n",
      "Accuracy: 0.4963999390602112\n",
      "Epoch 19, CIFAR-10 Batch 1:  Loss: 1.382007360458374\n",
      "Accuracy: 0.5003999471664429\n",
      "Epoch 20, CIFAR-10 Batch 1:  Loss: 1.40763258934021\n",
      "Accuracy: 0.491599977016449\n",
      "Epoch 21, CIFAR-10 Batch 1:  Loss: 1.3610045909881592\n",
      "Accuracy: 0.5095999836921692\n",
      "Epoch 22, CIFAR-10 Batch 1:  Loss: 1.3575305938720703\n",
      "Accuracy: 0.5127999186515808\n",
      "Epoch 23, CIFAR-10 Batch 1:  Loss: 1.3591439723968506\n",
      "Accuracy: 0.5047999620437622\n",
      "Epoch 24, CIFAR-10 Batch 1:  Loss: 1.3659690618515015\n",
      "Accuracy: 0.5031999349594116\n",
      "Epoch 25, CIFAR-10 Batch 1:  Loss: 1.3290884494781494\n",
      "Accuracy: 0.520799994468689\n",
      "Epoch 26, CIFAR-10 Batch 1:  Loss: 1.352522373199463\n",
      "Accuracy: 0.5251999497413635\n",
      "Epoch 27, CIFAR-10 Batch 1:  Loss: 1.325561761856079\n",
      "Accuracy: 0.5245999097824097\n",
      "Epoch 28, CIFAR-10 Batch 1:  Loss: 1.3627938032150269\n",
      "Accuracy: 0.5119999647140503\n",
      "Epoch 29, CIFAR-10 Batch 1:  Loss: 1.4766616821289062\n",
      "Accuracy: 0.4997999966144562\n",
      "Epoch 30, CIFAR-10 Batch 1:  Loss: 1.313483476638794\n",
      "Accuracy: 0.5387998819351196\n",
      "Epoch 31, CIFAR-10 Batch 1:  Loss: 1.3295557498931885\n",
      "Accuracy: 0.5281999111175537\n",
      "Epoch 32, CIFAR-10 Batch 1:  Loss: 1.3489601612091064\n",
      "Accuracy: 0.5219999551773071\n",
      "Epoch 33, CIFAR-10 Batch 1:  Loss: 1.3162055015563965\n",
      "Accuracy: 0.5339999198913574\n",
      "Epoch 34, CIFAR-10 Batch 1:  Loss: 1.3610897064208984\n",
      "Accuracy: 0.5375999212265015\n",
      "Epoch 35, CIFAR-10 Batch 1:  Loss: 1.363110065460205\n",
      "Accuracy: 0.5251999497413635\n",
      "Epoch 36, CIFAR-10 Batch 1:  Loss: 1.2964425086975098\n",
      "Accuracy: 0.53739994764328\n",
      "Epoch 37, CIFAR-10 Batch 1:  Loss: 1.3734402656555176\n",
      "Accuracy: 0.5295999646186829\n",
      "Epoch 38, CIFAR-10 Batch 1:  Loss: 1.3149666786193848\n",
      "Accuracy: 0.5381999611854553\n",
      "Epoch 39, CIFAR-10 Batch 1:  Loss: 1.2989025115966797\n",
      "Accuracy: 0.5503999590873718\n",
      "Epoch 40, CIFAR-10 Batch 1:  Loss: 1.309281826019287\n",
      "Accuracy: 0.5435999035835266\n"
     ]
    }
   ],
   "source": [
    "\"\"\"\n",
    "DON'T MODIFY ANYTHING IN THIS CELL\n",
    "\"\"\"\n",
    "print('Checking the Training on a Single Batch...')\n",
    "\n",
    "config = tf.ConfigProto()\n",
    "config.gpu_options.allocator_type = 'BFC'\n",
    "  \n",
    "with tf.Session(config = config) as sess:\n",
    "    # Initializing the variables\n",
    "    sess.run(tf.global_variables_initializer())\n",
    "    \n",
    "    # Training cycle\n",
    "    for epoch in range(epochs):\n",
    "        batch_i = 1\n",
    "        for batch_features, batch_labels in helper.load_preprocess_training_batch(batch_i, batch_size):\n",
    "            train_neural_network(sess, optimizer, keep_probability, batch_features, batch_labels)\n",
    "        print('Epoch {:>2}, CIFAR-10 Batch {}:  '.format(epoch + 1, batch_i), end='')\n",
    "        print_stats(sess, batch_features, batch_labels, cost, accuracy)"
   ]
  },
  {
   "cell_type": "markdown",
   "metadata": {
    "deletable": true,
    "editable": true
   },
   "source": [
    "### Fully Train the Model\n",
    "Now that you got a good accuracy with a single CIFAR-10 batch, try it with all five batches."
   ]
  },
  {
   "cell_type": "code",
   "execution_count": 24,
   "metadata": {
    "collapsed": false,
    "deletable": true,
    "editable": true
   },
   "outputs": [
    {
     "name": "stdout",
     "output_type": "stream",
     "text": [
      "Training...\n",
      "Epoch  1, CIFAR-10 Batch 1:  Loss: 2.2245211601257324\n",
      "Accuracy: 0.1613999903202057\n",
      "Epoch  1, CIFAR-10 Batch 2:  Loss: 2.0574069023132324\n",
      "Accuracy: 0.24739998579025269\n",
      "Epoch  1, CIFAR-10 Batch 3:  Loss: 1.9005372524261475\n",
      "Accuracy: 0.31759998202323914\n",
      "Epoch  1, CIFAR-10 Batch 4:  Loss: 1.8257050514221191\n",
      "Accuracy: 0.35339999198913574\n",
      "Epoch  1, CIFAR-10 Batch 5:  Loss: 1.7180256843566895\n",
      "Accuracy: 0.39079999923706055\n",
      "Epoch  2, CIFAR-10 Batch 1:  Loss: 1.7058144807815552\n",
      "Accuracy: 0.39399999380111694\n",
      "Epoch  2, CIFAR-10 Batch 2:  Loss: 1.601325511932373\n",
      "Accuracy: 0.42320001125335693\n",
      "Epoch  2, CIFAR-10 Batch 3:  Loss: 1.62504243850708\n",
      "Accuracy: 0.4063999652862549\n",
      "Epoch  2, CIFAR-10 Batch 4:  Loss: 1.558564305305481\n",
      "Accuracy: 0.4407999515533447\n",
      "Epoch  2, CIFAR-10 Batch 5:  Loss: 1.557582139968872\n",
      "Accuracy: 0.43959999084472656\n",
      "Epoch  3, CIFAR-10 Batch 1:  Loss: 1.5071372985839844\n",
      "Accuracy: 0.46379995346069336\n",
      "Epoch  3, CIFAR-10 Batch 2:  Loss: 1.5028976202011108\n",
      "Accuracy: 0.45559996366500854\n",
      "Epoch  3, CIFAR-10 Batch 3:  Loss: 1.4762235879898071\n",
      "Accuracy: 0.46119993925094604\n",
      "Epoch  3, CIFAR-10 Batch 4:  Loss: 1.4684644937515259\n",
      "Accuracy: 0.47819992899894714\n",
      "Epoch  3, CIFAR-10 Batch 5:  Loss: 1.478074550628662\n",
      "Accuracy: 0.4765999913215637\n",
      "Epoch  4, CIFAR-10 Batch 1:  Loss: 1.442294955253601\n",
      "Accuracy: 0.473999947309494\n",
      "Epoch  4, CIFAR-10 Batch 2:  Loss: 1.4324249029159546\n",
      "Accuracy: 0.48159998655319214\n",
      "Epoch  4, CIFAR-10 Batch 3:  Loss: 1.4353030920028687\n",
      "Accuracy: 0.4789999723434448\n",
      "Epoch  4, CIFAR-10 Batch 4:  Loss: 1.4311319589614868\n",
      "Accuracy: 0.4809999465942383\n",
      "Epoch  4, CIFAR-10 Batch 5:  Loss: 1.3994970321655273\n",
      "Accuracy: 0.4927999675273895\n",
      "Epoch  5, CIFAR-10 Batch 1:  Loss: 1.3905032873153687\n",
      "Accuracy: 0.49779993295669556\n",
      "Epoch  5, CIFAR-10 Batch 2:  Loss: 1.44816255569458\n",
      "Accuracy: 0.481999933719635\n",
      "Epoch  5, CIFAR-10 Batch 3:  Loss: 1.3864455223083496\n",
      "Accuracy: 0.49139997363090515\n",
      "Epoch  5, CIFAR-10 Batch 4:  Loss: 1.3859436511993408\n",
      "Accuracy: 0.5041999220848083\n",
      "Epoch  5, CIFAR-10 Batch 5:  Loss: 1.395690679550171\n",
      "Accuracy: 0.4995999336242676\n",
      "Epoch  6, CIFAR-10 Batch 1:  Loss: 1.376477837562561\n",
      "Accuracy: 0.5033999681472778\n",
      "Epoch  6, CIFAR-10 Batch 2:  Loss: 1.3738306760787964\n",
      "Accuracy: 0.4987999498844147\n",
      "Epoch  6, CIFAR-10 Batch 3:  Loss: 1.3510981798171997\n",
      "Accuracy: 0.5109999775886536\n",
      "Epoch  6, CIFAR-10 Batch 4:  Loss: 1.3718231916427612\n",
      "Accuracy: 0.51419997215271\n",
      "Epoch  6, CIFAR-10 Batch 5:  Loss: 1.3432694673538208\n",
      "Accuracy: 0.5185999274253845\n",
      "Epoch  7, CIFAR-10 Batch 1:  Loss: 1.3194520473480225\n",
      "Accuracy: 0.5367999076843262\n",
      "Epoch  7, CIFAR-10 Batch 2:  Loss: 1.3338539600372314\n",
      "Accuracy: 0.5252000093460083\n",
      "Epoch  7, CIFAR-10 Batch 3:  Loss: 1.2923710346221924\n",
      "Accuracy: 0.5365999341011047\n",
      "Epoch  7, CIFAR-10 Batch 4:  Loss: 1.325084924697876\n",
      "Accuracy: 0.5249999165534973\n",
      "Epoch  7, CIFAR-10 Batch 5:  Loss: 1.2902767658233643\n",
      "Accuracy: 0.5429999828338623\n",
      "Epoch  8, CIFAR-10 Batch 1:  Loss: 1.2943938970565796\n",
      "Accuracy: 0.533799946308136\n",
      "Epoch  8, CIFAR-10 Batch 2:  Loss: 1.2663096189498901\n",
      "Accuracy: 0.5379999279975891\n",
      "Epoch  8, CIFAR-10 Batch 3:  Loss: 1.2761685848236084\n",
      "Accuracy: 0.548599898815155\n",
      "Epoch  8, CIFAR-10 Batch 4:  Loss: 1.2630459070205688\n",
      "Accuracy: 0.5557999610900879\n",
      "Epoch  8, CIFAR-10 Batch 5:  Loss: 1.2781554460525513\n",
      "Accuracy: 0.5393999218940735\n",
      "Epoch  9, CIFAR-10 Batch 1:  Loss: 1.264380693435669\n",
      "Accuracy: 0.5495998859405518\n",
      "Epoch  9, CIFAR-10 Batch 2:  Loss: 1.250675082206726\n",
      "Accuracy: 0.5527999401092529\n",
      "Epoch  9, CIFAR-10 Batch 3:  Loss: 1.2432920932769775\n",
      "Accuracy: 0.5531998872756958\n",
      "Epoch  9, CIFAR-10 Batch 4:  Loss: 1.2354795932769775\n",
      "Accuracy: 0.568199872970581\n",
      "Epoch  9, CIFAR-10 Batch 5:  Loss: 1.2583152055740356\n",
      "Accuracy: 0.5555999279022217\n",
      "Epoch 10, CIFAR-10 Batch 1:  Loss: 1.2418898344039917\n",
      "Accuracy: 0.558199942111969\n",
      "Epoch 10, CIFAR-10 Batch 2:  Loss: 1.217218041419983\n",
      "Accuracy: 0.5667999386787415\n",
      "Epoch 10, CIFAR-10 Batch 3:  Loss: 1.2311432361602783\n",
      "Accuracy: 0.5561999082565308\n",
      "Epoch 10, CIFAR-10 Batch 4:  Loss: 1.220951795578003\n",
      "Accuracy: 0.5639998912811279\n",
      "Epoch 10, CIFAR-10 Batch 5:  Loss: 1.266967535018921\n",
      "Accuracy: 0.5603999495506287\n",
      "Epoch 11, CIFAR-10 Batch 1:  Loss: 1.2546982765197754\n",
      "Accuracy: 0.5535998940467834\n",
      "Epoch 11, CIFAR-10 Batch 2:  Loss: 1.1959507465362549\n",
      "Accuracy: 0.5747998952865601\n",
      "Epoch 11, CIFAR-10 Batch 3:  Loss: 1.2102274894714355\n",
      "Accuracy: 0.5709999203681946\n",
      "Epoch 11, CIFAR-10 Batch 4:  Loss: 1.205441951751709\n",
      "Accuracy: 0.5781999230384827\n",
      "Epoch 11, CIFAR-10 Batch 5:  Loss: 1.2195641994476318\n",
      "Accuracy: 0.5735999345779419\n",
      "Epoch 12, CIFAR-10 Batch 1:  Loss: 1.1958853006362915\n",
      "Accuracy: 0.5765998959541321\n",
      "Epoch 12, CIFAR-10 Batch 2:  Loss: 1.173608422279358\n",
      "Accuracy: 0.5787999629974365\n",
      "Epoch 12, CIFAR-10 Batch 3:  Loss: 1.2119851112365723\n",
      "Accuracy: 0.5721998810768127\n",
      "Epoch 12, CIFAR-10 Batch 4:  Loss: 1.1945230960845947\n",
      "Accuracy: 0.578999936580658\n",
      "Epoch 12, CIFAR-10 Batch 5:  Loss: 1.2138917446136475\n",
      "Accuracy: 0.5727999806404114\n",
      "Epoch 13, CIFAR-10 Batch 1:  Loss: 1.2081209421157837\n",
      "Accuracy: 0.5687999129295349\n",
      "Epoch 13, CIFAR-10 Batch 2:  Loss: 1.145201563835144\n",
      "Accuracy: 0.5923999547958374\n",
      "Epoch 13, CIFAR-10 Batch 3:  Loss: 1.1384530067443848\n",
      "Accuracy: 0.6013998985290527\n",
      "Epoch 13, CIFAR-10 Batch 4:  Loss: 1.1369385719299316\n",
      "Accuracy: 0.5981999635696411\n",
      "Epoch 13, CIFAR-10 Batch 5:  Loss: 1.1524791717529297\n",
      "Accuracy: 0.5917999148368835\n",
      "Epoch 14, CIFAR-10 Batch 1:  Loss: 1.155747413635254\n",
      "Accuracy: 0.5903999209403992\n",
      "Epoch 14, CIFAR-10 Batch 2:  Loss: 1.1403861045837402\n",
      "Accuracy: 0.5961999893188477\n",
      "Epoch 14, CIFAR-10 Batch 3:  Loss: 1.1431957483291626\n",
      "Accuracy: 0.5977998971939087\n",
      "Epoch 14, CIFAR-10 Batch 4:  Loss: 1.170203447341919\n",
      "Accuracy: 0.5843998789787292\n",
      "Epoch 14, CIFAR-10 Batch 5:  Loss: 1.170202374458313\n",
      "Accuracy: 0.5911999344825745\n",
      "Epoch 15, CIFAR-10 Batch 1:  Loss: 1.1275317668914795\n",
      "Accuracy: 0.5987999439239502\n",
      "Epoch 15, CIFAR-10 Batch 2:  Loss: 1.1485326290130615\n",
      "Accuracy: 0.590799868106842\n",
      "Epoch 15, CIFAR-10 Batch 3:  Loss: 1.1067917346954346\n",
      "Accuracy: 0.608799934387207\n",
      "Epoch 15, CIFAR-10 Batch 4:  Loss: 1.1111186742782593\n",
      "Accuracy: 0.6101998686790466\n",
      "Epoch 15, CIFAR-10 Batch 5:  Loss: 1.1126127243041992\n",
      "Accuracy: 0.6039999127388\n",
      "Epoch 16, CIFAR-10 Batch 1:  Loss: 1.106156587600708\n",
      "Accuracy: 0.6075999140739441\n",
      "Epoch 16, CIFAR-10 Batch 2:  Loss: 1.0981972217559814\n",
      "Accuracy: 0.6109999418258667\n",
      "Epoch 16, CIFAR-10 Batch 3:  Loss: 1.10129714012146\n",
      "Accuracy: 0.6061999797821045\n",
      "Epoch 16, CIFAR-10 Batch 4:  Loss: 1.12274169921875\n",
      "Accuracy: 0.606999933719635\n",
      "Epoch 16, CIFAR-10 Batch 5:  Loss: 1.1010154485702515\n",
      "Accuracy: 0.6115999221801758\n",
      "Epoch 17, CIFAR-10 Batch 1:  Loss: 1.1565078496932983\n",
      "Accuracy: 0.5973999500274658\n",
      "Epoch 17, CIFAR-10 Batch 2:  Loss: 1.1181516647338867\n",
      "Accuracy: 0.6009999513626099\n",
      "Epoch 17, CIFAR-10 Batch 3:  Loss: 1.1092133522033691\n",
      "Accuracy: 0.6057999134063721\n",
      "Epoch 17, CIFAR-10 Batch 4:  Loss: 1.0961509943008423\n",
      "Accuracy: 0.6171999573707581\n",
      "Epoch 17, CIFAR-10 Batch 5:  Loss: 1.07767915725708\n",
      "Accuracy: 0.6241998672485352\n",
      "Epoch 18, CIFAR-10 Batch 1:  Loss: 1.1137700080871582\n",
      "Accuracy: 0.6103999614715576\n",
      "Epoch 18, CIFAR-10 Batch 2:  Loss: 1.089408040046692\n",
      "Accuracy: 0.6087998747825623\n",
      "Epoch 18, CIFAR-10 Batch 3:  Loss: 1.0911657810211182\n",
      "Accuracy: 0.6071999073028564\n",
      "Epoch 18, CIFAR-10 Batch 4:  Loss: 1.0766832828521729\n",
      "Accuracy: 0.6201999187469482\n",
      "Epoch 18, CIFAR-10 Batch 5:  Loss: 1.1031479835510254\n",
      "Accuracy: 0.6165998578071594\n",
      "Epoch 19, CIFAR-10 Batch 1:  Loss: 1.066224217414856\n",
      "Accuracy: 0.6187999248504639\n",
      "Epoch 19, CIFAR-10 Batch 2:  Loss: 1.0569008588790894\n",
      "Accuracy: 0.6249998807907104\n",
      "Epoch 19, CIFAR-10 Batch 3:  Loss: 1.0717576742172241\n",
      "Accuracy: 0.6165999174118042\n",
      "Epoch 19, CIFAR-10 Batch 4:  Loss: 1.0608429908752441\n",
      "Accuracy: 0.6315999031066895\n",
      "Epoch 19, CIFAR-10 Batch 5:  Loss: 1.078112006187439\n",
      "Accuracy: 0.6141998767852783\n",
      "Epoch 20, CIFAR-10 Batch 1:  Loss: 1.0512077808380127\n",
      "Accuracy: 0.6225998997688293\n",
      "Epoch 20, CIFAR-10 Batch 2:  Loss: 1.0530427694320679\n",
      "Accuracy: 0.6305999159812927\n",
      "Epoch 20, CIFAR-10 Batch 3:  Loss: 1.0744048357009888\n",
      "Accuracy: 0.6187998652458191\n",
      "Epoch 20, CIFAR-10 Batch 4:  Loss: 1.0535659790039062\n",
      "Accuracy: 0.6303998827934265\n",
      "Epoch 20, CIFAR-10 Batch 5:  Loss: 1.044248104095459\n",
      "Accuracy: 0.6353998780250549\n",
      "Epoch 21, CIFAR-10 Batch 1:  Loss: 1.0510389804840088\n",
      "Accuracy: 0.6213998794555664\n",
      "Epoch 21, CIFAR-10 Batch 2:  Loss: 1.0530017614364624\n",
      "Accuracy: 0.6279999017715454\n",
      "Epoch 21, CIFAR-10 Batch 3:  Loss: 1.0524754524230957\n",
      "Accuracy: 0.6329998970031738\n",
      "Epoch 21, CIFAR-10 Batch 4:  Loss: 1.0427113771438599\n",
      "Accuracy: 0.6291999220848083\n",
      "Epoch 21, CIFAR-10 Batch 5:  Loss: 1.046149730682373\n",
      "Accuracy: 0.6341999173164368\n",
      "Epoch 22, CIFAR-10 Batch 1:  Loss: 1.0712528228759766\n",
      "Accuracy: 0.6221998929977417\n",
      "Epoch 22, CIFAR-10 Batch 2:  Loss: 1.0356521606445312\n",
      "Accuracy: 0.6293998956680298\n",
      "Epoch 22, CIFAR-10 Batch 3:  Loss: 1.0472254753112793\n",
      "Accuracy: 0.6317998766899109\n",
      "Epoch 22, CIFAR-10 Batch 4:  Loss: 1.0425739288330078\n",
      "Accuracy: 0.6347998380661011\n",
      "Epoch 22, CIFAR-10 Batch 5:  Loss: 1.0563397407531738\n",
      "Accuracy: 0.6317998766899109\n",
      "Epoch 23, CIFAR-10 Batch 1:  Loss: 1.0310022830963135\n",
      "Accuracy: 0.6377999186515808\n",
      "Epoch 23, CIFAR-10 Batch 2:  Loss: 1.023566722869873\n",
      "Accuracy: 0.6427999138832092\n",
      "Epoch 23, CIFAR-10 Batch 3:  Loss: 1.0481724739074707\n",
      "Accuracy: 0.6317999362945557\n",
      "Epoch 23, CIFAR-10 Batch 4:  Loss: 1.0340118408203125\n",
      "Accuracy: 0.6459999084472656\n",
      "Epoch 23, CIFAR-10 Batch 5:  Loss: 1.042321801185608\n",
      "Accuracy: 0.6403999328613281\n",
      "Epoch 24, CIFAR-10 Batch 1:  Loss: 1.016702651977539\n",
      "Accuracy: 0.6477999091148376\n",
      "Epoch 24, CIFAR-10 Batch 2:  Loss: 1.0344983339309692\n",
      "Accuracy: 0.6319998502731323\n",
      "Epoch 24, CIFAR-10 Batch 3:  Loss: 1.0491225719451904\n",
      "Accuracy: 0.6377999186515808\n",
      "Epoch 24, CIFAR-10 Batch 4:  Loss: 1.0663018226623535\n",
      "Accuracy: 0.6327998638153076\n",
      "Epoch 24, CIFAR-10 Batch 5:  Loss: 1.0605323314666748\n",
      "Accuracy: 0.6297999620437622\n",
      "Epoch 25, CIFAR-10 Batch 1:  Loss: 1.0274043083190918\n",
      "Accuracy: 0.6367998719215393\n",
      "Epoch 25, CIFAR-10 Batch 2:  Loss: 1.0207901000976562\n",
      "Accuracy: 0.6457998752593994\n",
      "Epoch 25, CIFAR-10 Batch 3:  Loss: 1.032025694847107\n",
      "Accuracy: 0.6401998996734619\n",
      "Epoch 25, CIFAR-10 Batch 4:  Loss: 1.0384743213653564\n",
      "Accuracy: 0.6387999057769775\n",
      "Epoch 25, CIFAR-10 Batch 5:  Loss: 1.0241005420684814\n",
      "Accuracy: 0.6483998894691467\n",
      "Epoch 26, CIFAR-10 Batch 1:  Loss: 1.016098976135254\n",
      "Accuracy: 0.6471998691558838\n",
      "Epoch 26, CIFAR-10 Batch 2:  Loss: 1.0202914476394653\n",
      "Accuracy: 0.643799901008606\n",
      "Epoch 26, CIFAR-10 Batch 3:  Loss: 1.025417685508728\n",
      "Accuracy: 0.6427999138832092\n",
      "Epoch 26, CIFAR-10 Batch 4:  Loss: 1.0282890796661377\n",
      "Accuracy: 0.640799880027771\n",
      "Epoch 26, CIFAR-10 Batch 5:  Loss: 1.0327035188674927\n",
      "Accuracy: 0.6431999206542969\n",
      "Epoch 27, CIFAR-10 Batch 1:  Loss: 1.0219905376434326\n",
      "Accuracy: 0.6433998346328735\n",
      "Epoch 27, CIFAR-10 Batch 2:  Loss: 1.016105055809021\n",
      "Accuracy: 0.6449999213218689\n",
      "Epoch 27, CIFAR-10 Batch 3:  Loss: 1.0250475406646729\n",
      "Accuracy: 0.6439999341964722\n",
      "Epoch 27, CIFAR-10 Batch 4:  Loss: 1.030603289604187\n",
      "Accuracy: 0.6421998739242554\n",
      "Epoch 27, CIFAR-10 Batch 5:  Loss: 1.0126439332962036\n",
      "Accuracy: 0.6501998901367188\n",
      "Epoch 28, CIFAR-10 Batch 1:  Loss: 1.0537418127059937\n",
      "Accuracy: 0.6405999064445496\n",
      "Epoch 28, CIFAR-10 Batch 2:  Loss: 1.022803783416748\n",
      "Accuracy: 0.6487998962402344\n",
      "Epoch 28, CIFAR-10 Batch 3:  Loss: 1.0363354682922363\n",
      "Accuracy: 0.6443999409675598\n",
      "Epoch 28, CIFAR-10 Batch 4:  Loss: 1.0312039852142334\n",
      "Accuracy: 0.6423999071121216\n",
      "Epoch 28, CIFAR-10 Batch 5:  Loss: 1.002461314201355\n",
      "Accuracy: 0.6563999056816101\n",
      "Epoch 29, CIFAR-10 Batch 1:  Loss: 1.0265363454818726\n",
      "Accuracy: 0.6465998888015747\n",
      "Epoch 29, CIFAR-10 Batch 2:  Loss: 1.0108625888824463\n",
      "Accuracy: 0.6505998969078064\n",
      "Epoch 29, CIFAR-10 Batch 3:  Loss: 1.0240569114685059\n",
      "Accuracy: 0.6461998820304871\n",
      "Epoch 29, CIFAR-10 Batch 4:  Loss: 1.009278655052185\n",
      "Accuracy: 0.6517998576164246\n",
      "Epoch 29, CIFAR-10 Batch 5:  Loss: 1.0073904991149902\n",
      "Accuracy: 0.655799925327301\n",
      "Epoch 30, CIFAR-10 Batch 1:  Loss: 1.0102128982543945\n",
      "Accuracy: 0.649199903011322\n",
      "Epoch 30, CIFAR-10 Batch 2:  Loss: 1.0026642084121704\n",
      "Accuracy: 0.6503998637199402\n",
      "Epoch 30, CIFAR-10 Batch 3:  Loss: 1.0167453289031982\n",
      "Accuracy: 0.6495999097824097\n",
      "Epoch 30, CIFAR-10 Batch 4:  Loss: 1.0012462139129639\n",
      "Accuracy: 0.658599853515625\n",
      "Epoch 30, CIFAR-10 Batch 5:  Loss: 1.0179970264434814\n",
      "Accuracy: 0.650399923324585\n",
      "Epoch 31, CIFAR-10 Batch 1:  Loss: 1.0104823112487793\n",
      "Accuracy: 0.6529998779296875\n",
      "Epoch 31, CIFAR-10 Batch 2:  Loss: 1.0142104625701904\n",
      "Accuracy: 0.6533999443054199\n",
      "Epoch 31, CIFAR-10 Batch 3:  Loss: 1.0268946886062622\n",
      "Accuracy: 0.6435998678207397\n",
      "Epoch 31, CIFAR-10 Batch 4:  Loss: 1.0021886825561523\n",
      "Accuracy: 0.650999903678894\n",
      "Epoch 31, CIFAR-10 Batch 5:  Loss: 1.0086630582809448\n",
      "Accuracy: 0.6539998650550842\n",
      "Epoch 32, CIFAR-10 Batch 1:  Loss: 1.015698790550232\n",
      "Accuracy: 0.6511999368667603\n",
      "Epoch 32, CIFAR-10 Batch 2:  Loss: 1.003888726234436\n",
      "Accuracy: 0.64739990234375\n",
      "Epoch 32, CIFAR-10 Batch 3:  Loss: 1.0234962701797485\n",
      "Accuracy: 0.6499999165534973\n",
      "Epoch 32, CIFAR-10 Batch 4:  Loss: 1.0516765117645264\n",
      "Accuracy: 0.6383998990058899\n",
      "Epoch 32, CIFAR-10 Batch 5:  Loss: 1.0046905279159546\n",
      "Accuracy: 0.6493999361991882\n",
      "Epoch 33, CIFAR-10 Batch 1:  Loss: 1.0048093795776367\n",
      "Accuracy: 0.6475998163223267\n",
      "Epoch 33, CIFAR-10 Batch 2:  Loss: 1.0107150077819824\n",
      "Accuracy: 0.6489998698234558\n",
      "Epoch 33, CIFAR-10 Batch 3:  Loss: 1.0159552097320557\n",
      "Accuracy: 0.6581999063491821\n",
      "Epoch 33, CIFAR-10 Batch 4:  Loss: 1.0065945386886597\n",
      "Accuracy: 0.6507998704910278\n",
      "Epoch 33, CIFAR-10 Batch 5:  Loss: 1.0104087591171265\n",
      "Accuracy: 0.6505998969078064\n",
      "Epoch 34, CIFAR-10 Batch 1:  Loss: 1.006401538848877\n",
      "Accuracy: 0.6477999091148376\n",
      "Epoch 34, CIFAR-10 Batch 2:  Loss: 0.9882731437683105\n",
      "Accuracy: 0.6619998812675476\n",
      "Epoch 34, CIFAR-10 Batch 3:  Loss: 0.9964281916618347\n",
      "Accuracy: 0.6603999137878418\n",
      "Epoch 34, CIFAR-10 Batch 4:  Loss: 1.006784439086914\n",
      "Accuracy: 0.6495999097824097\n",
      "Epoch 34, CIFAR-10 Batch 5:  Loss: 1.0011307001113892\n",
      "Accuracy: 0.6595999002456665\n",
      "Epoch 35, CIFAR-10 Batch 1:  Loss: 1.0504486560821533\n",
      "Accuracy: 0.6429999470710754\n",
      "Epoch 35, CIFAR-10 Batch 2:  Loss: 0.9954668879508972\n",
      "Accuracy: 0.651999831199646\n",
      "Epoch 35, CIFAR-10 Batch 3:  Loss: 1.0120214223861694\n",
      "Accuracy: 0.6497998833656311\n",
      "Epoch 35, CIFAR-10 Batch 4:  Loss: 1.0090205669403076\n",
      "Accuracy: 0.6551998853683472\n",
      "Epoch 35, CIFAR-10 Batch 5:  Loss: 0.9856231212615967\n",
      "Accuracy: 0.6689998507499695\n",
      "Epoch 36, CIFAR-10 Batch 1:  Loss: 1.0038096904754639\n",
      "Accuracy: 0.6543998718261719\n",
      "Epoch 36, CIFAR-10 Batch 2:  Loss: 1.0018389225006104\n",
      "Accuracy: 0.6533998847007751\n",
      "Epoch 36, CIFAR-10 Batch 3:  Loss: 1.0325363874435425\n",
      "Accuracy: 0.650399923324585\n",
      "Epoch 36, CIFAR-10 Batch 4:  Loss: 0.9984147548675537\n",
      "Accuracy: 0.6623998880386353\n",
      "Epoch 36, CIFAR-10 Batch 5:  Loss: 0.9858818054199219\n",
      "Accuracy: 0.66239994764328\n",
      "Epoch 37, CIFAR-10 Batch 1:  Loss: 1.0016388893127441\n",
      "Accuracy: 0.6575998663902283\n",
      "Epoch 37, CIFAR-10 Batch 2:  Loss: 1.0060673952102661\n",
      "Accuracy: 0.658599853515625\n",
      "Epoch 37, CIFAR-10 Batch 3:  Loss: 1.0544161796569824\n",
      "Accuracy: 0.6403998732566833\n",
      "Epoch 37, CIFAR-10 Batch 4:  Loss: 0.9937179088592529\n",
      "Accuracy: 0.658599853515625\n",
      "Epoch 37, CIFAR-10 Batch 5:  Loss: 0.9863404035568237\n",
      "Accuracy: 0.6623998880386353\n",
      "Epoch 38, CIFAR-10 Batch 1:  Loss: 0.9855886697769165\n",
      "Accuracy: 0.6663998961448669\n",
      "Epoch 38, CIFAR-10 Batch 2:  Loss: 0.9894522428512573\n",
      "Accuracy: 0.6571998596191406\n",
      "Epoch 38, CIFAR-10 Batch 3:  Loss: 1.0523560047149658\n",
      "Accuracy: 0.6551998853683472\n",
      "Epoch 38, CIFAR-10 Batch 4:  Loss: 0.9982686638832092\n",
      "Accuracy: 0.6535998582839966\n",
      "Epoch 38, CIFAR-10 Batch 5:  Loss: 0.9738238453865051\n",
      "Accuracy: 0.6647999286651611\n",
      "Epoch 39, CIFAR-10 Batch 1:  Loss: 0.999760627746582\n",
      "Accuracy: 0.6553999185562134\n",
      "Epoch 39, CIFAR-10 Batch 2:  Loss: 0.9955089092254639\n",
      "Accuracy: 0.6645998358726501\n",
      "Epoch 39, CIFAR-10 Batch 3:  Loss: 1.0227457284927368\n",
      "Accuracy: 0.6579998731613159\n",
      "Epoch 39, CIFAR-10 Batch 4:  Loss: 0.990410327911377\n",
      "Accuracy: 0.6579998731613159\n",
      "Epoch 39, CIFAR-10 Batch 5:  Loss: 0.9859293699264526\n",
      "Accuracy: 0.6619998812675476\n",
      "Epoch 40, CIFAR-10 Batch 1:  Loss: 0.9936038255691528\n",
      "Accuracy: 0.6635998487472534\n",
      "Epoch 40, CIFAR-10 Batch 2:  Loss: 0.9990301132202148\n",
      "Accuracy: 0.6581999659538269\n",
      "Epoch 40, CIFAR-10 Batch 3:  Loss: 1.0061533451080322\n",
      "Accuracy: 0.6597998738288879\n",
      "Epoch 40, CIFAR-10 Batch 4:  Loss: 0.9761415719985962\n",
      "Accuracy: 0.669999897480011\n",
      "Epoch 40, CIFAR-10 Batch 5:  Loss: 1.0201852321624756\n",
      "Accuracy: 0.6605998873710632\n"
     ]
    }
   ],
   "source": [
    "\"\"\"\n",
    "DON'T MODIFY ANYTHING IN THIS CELL\n",
    "\"\"\"\n",
    "save_model_path = './image_classification'\n",
    "\n",
    "config = tf.ConfigProto()\n",
    "config.gpu_options.allocator_type = 'BFC'\n",
    "\n",
    "print('Training...')\n",
    "with tf.Session( config = config) as sess:\n",
    "    # Initializing the variables\n",
    "    sess.run(tf.global_variables_initializer())\n",
    "    \n",
    "    # Training cycle\n",
    "    for epoch in range(epochs):\n",
    "        # Loop over all batches\n",
    "        n_batches = 5\n",
    "        for batch_i in range(1, n_batches + 1):\n",
    "            for batch_features, batch_labels in helper.load_preprocess_training_batch(batch_i, batch_size):\n",
    "                train_neural_network(sess, optimizer, keep_probability, batch_features, batch_labels)\n",
    "            print('Epoch {:>2}, CIFAR-10 Batch {}:  '.format(epoch + 1, batch_i), end='')\n",
    "            print_stats(sess, batch_features, batch_labels, cost, accuracy)\n",
    "            \n",
    "    # Save Model\n",
    "    saver = tf.train.Saver()\n",
    "    save_path = saver.save(sess, save_model_path)"
   ]
  },
  {
   "cell_type": "markdown",
   "metadata": {
    "deletable": true,
    "editable": true
   },
   "source": [
    "# Checkpoint\n",
    "The model has been saved to disk.\n",
    "## Test Model\n",
    "Test your model against the test dataset.  This will be your final accuracy. You should have an accuracy greater than 50%. If you don't, keep tweaking the model architecture and parameters."
   ]
  },
  {
   "cell_type": "code",
   "execution_count": 25,
   "metadata": {
    "collapsed": false,
    "deletable": true,
    "editable": true
   },
   "outputs": [
    {
     "name": "stdout",
     "output_type": "stream",
     "text": [
      "Testing Accuracy: 0.65478515625\n",
      "\n"
     ]
    },
    {
     "data": {
      "image/png": "[encoded data removed]",
      "text/plain": [
       "<matplotlib.figure.Figure at 0x7f22c4042e48>"
      ]
     },
     "metadata": {
      "image/png": {
       "height": 319,
       "width": 355
      }
     },
     "output_type": "display_data"
    }
   ],
   "source": [
    "\"\"\"\n",
    "DON'T MODIFY ANYTHING IN THIS CELL\n",
    "\"\"\"\n",
    "%matplotlib inline\n",
    "%config InlineBackend.figure_format = 'retina'\n",
    "\n",
    "import tensorflow as tf\n",
    "import pickle\n",
    "import helper\n",
    "import random\n",
    "\n",
    "# Set batch size if not already set\n",
    "try:\n",
    "    if batch_size:\n",
    "        pass\n",
    "except NameError:\n",
    "    batch_size = 64\n",
    "\n",
    "save_model_path = './image_classification'\n",
    "n_samples = 4\n",
    "top_n_predictions = 3\n",
    "\n",
    "def test_model():\n",
    "    \"\"\"\n",
    "    Test the saved model against the test dataset\n",
    "    \"\"\"\n",
    "\n",
    "    test_features, test_labels = pickle.load(open('preprocess_training.p', mode='rb'))\n",
    "    loaded_graph = tf.Graph()\n",
    "\n",
    "    with tf.Session(graph=loaded_graph) as sess:\n",
    "        # Load model\n",
    "        loader = tf.train.import_meta_graph(save_model_path + '.meta')\n",
    "        loader.restore(sess, save_model_path)\n",
    "\n",
    "        # Get Tensors from loaded model\n",
    "        loaded_x = loaded_graph.get_tensor_by_name('x:0')\n",
    "        loaded_y = loaded_graph.get_tensor_by_name('y:0')\n",
    "        loaded_keep_prob = loaded_graph.get_tensor_by_name('keep_prob:0')\n",
    "        loaded_logits = loaded_graph.get_tensor_by_name('logits:0')\n",
    "        loaded_acc = loaded_graph.get_tensor_by_name('accuracy:0')\n",
    "        \n",
    "        # Get accuracy in batches for memory limitations\n",
    "        test_batch_acc_total = 0\n",
    "        test_batch_count = 0\n",
    "        \n",
    "        for train_feature_batch, train_label_batch in helper.batch_features_labels(test_features, test_labels, batch_size):\n",
    "            test_batch_acc_total += sess.run(\n",
    "                loaded_acc,\n",
    "                feed_dict={loaded_x: train_feature_batch, loaded_y: train_label_batch, loaded_keep_prob: 1.0})\n",
    "            test_batch_count += 1\n",
    "\n",
    "        print('Testing Accuracy: {}\\n'.format(test_batch_acc_total/test_batch_count))\n",
    "\n",
    "        # Print Random Samples\n",
    "        random_test_features, random_test_labels = tuple(zip(*random.sample(list(zip(test_features, test_labels)), n_samples)))\n",
    "        random_test_predictions = sess.run(\n",
    "            tf.nn.top_k(tf.nn.softmax(loaded_logits), top_n_predictions),\n",
    "            feed_dict={loaded_x: random_test_features, loaded_y: random_test_labels, loaded_keep_prob: 1.0})\n",
    "        helper.display_image_predictions(random_test_features, random_test_labels, random_test_predictions)\n",
    "\n",
    "\n",
    "test_model()"
   ]
  },
  {
   "cell_type": "markdown",
   "metadata": {
    "deletable": true,
    "editable": true
   },
   "source": [
    "## Why 50-70% Accuracy?\n",
    "You might be wondering why you can't get an accuracy any higher. First things first, 50% isn't bad for a simple CNN.  Pure guessing would get you 10% accuracy. However, you might notice people are getting scores [well above 70%](http://rodrigob.github.io/are_we_there_yet/build/classification_datasets_results.html#43494641522d3130).  That's because we haven't taught you all there is to know about neural networks. We still need to cover a few more techniques.\n",
    "## Submitting This Project\n",
    "When submitting this project, make sure to run all the cells before saving the notebook.  Save the notebook file as \"dlnd_image_classification.ipynb\" and save it as a HTML file under \"File\" -> \"Download as\".  Include the \"helper.py\" and \"problem_unittests.py\" files in your submission."
   ]
  },
  {
   "cell_type": "code",
   "execution_count": null,
   "metadata": {
    "collapsed": true,
    "deletable": true,
    "editable": true
   },
   "outputs": [],
   "source": []
  }
 ],
 "metadata": {
  "kernelspec": {
   "display_name": "Python 3",
   "language": "python",
   "name": "python3"
  },
  "language_info": {
   "codemirror_mode": {
    "name": "ipython",
    "version": 3
   },
   "file_extension": ".py",
   "mimetype": "text/x-python",
   "name": "python",
   "nbconvert_exporter": "python",
   "pygments_lexer": "ipython3",
   "version": "3.5.2"
  },
  "widgets": {
   "state": {},
   "version": "1.1.2"
  }
 },
 "nbformat": 4,
 "nbformat_minor": 0
}
