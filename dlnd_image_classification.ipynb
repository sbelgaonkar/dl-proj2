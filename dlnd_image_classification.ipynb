{
 "cells": [
  {
   "cell_type": "markdown",
   "metadata": {
    "collapsed": true,
    "deletable": true,
    "editable": true
   },
   "source": [
    "# Image Classification\n",
    "In this project, you'll classify images from the [CIFAR-10 dataset](https://www.cs.toronto.edu/~kriz/cifar.html).  The dataset consists of airplanes, dogs, cats, and other objects. You'll preprocess the images, then train a convolutional neural network on all the samples. The images need to be normalized and the labels need to be one-hot encoded.  You'll get to apply what you learned and build a convolutional, max pooling, dropout, and fully connected layers.  At the end, you'll get to see your neural network's predictions on the sample images.\n",
    "## Get the Data\n",
    "Run the following cell to download the [CIFAR-10 dataset for python](https://www.cs.toronto.edu/~kriz/cifar-10-python.tar.gz)."
   ]
  },
  {
   "cell_type": "code",
   "execution_count": 1,
   "metadata": {
    "collapsed": false,
    "deletable": true,
    "editable": true
   },
   "outputs": [
    {
     "name": "stderr",
     "output_type": "stream",
     "text": [
      "CIFAR-10 Dataset: 171MB [00:41, 4.06MB/s]                              \n"
     ]
    },
    {
     "name": "stdout",
     "output_type": "stream",
     "text": [
      "All files found!\n"
     ]
    }
   ],
   "source": [
    "\"\"\"\n",
    "DON'T MODIFY ANYTHING IN THIS CELL THAT IS BELOW THIS LINE\n",
    "\"\"\"\n",
    "from urllib.request import urlretrieve\n",
    "from os.path import isfile, isdir\n",
    "from tqdm import tqdm\n",
    "import problem_unittests as tests\n",
    "import tarfile\n",
    "\n",
    "cifar10_dataset_folder_path = 'cifar-10-batches-py'\n",
    "\n",
    "class DLProgress(tqdm):\n",
    "    last_block = 0\n",
    "\n",
    "    def hook(self, block_num=1, block_size=1, total_size=None):\n",
    "        self.total = total_size\n",
    "        self.update((block_num - self.last_block) * block_size)\n",
    "        self.last_block = block_num\n",
    "\n",
    "if not isfile('cifar-10-python.tar.gz'):\n",
    "    with DLProgress(unit='B', unit_scale=True, miniters=1, desc='CIFAR-10 Dataset') as pbar:\n",
    "        urlretrieve(\n",
    "            'https://www.cs.toronto.edu/~kriz/cifar-10-python.tar.gz',\n",
    "            'cifar-10-python.tar.gz',\n",
    "            pbar.hook)\n",
    "\n",
    "if not isdir(cifar10_dataset_folder_path):\n",
    "    with tarfile.open('cifar-10-python.tar.gz') as tar:\n",
    "        tar.extractall()\n",
    "        tar.close()\n",
    "\n",
    "\n",
    "tests.test_folder_path(cifar10_dataset_folder_path)"
   ]
  },
  {
   "cell_type": "markdown",
   "metadata": {
    "deletable": true,
    "editable": true
   },
   "source": [
    "## Explore the Data\n",
    "The dataset is broken into batches to prevent your machine from running out of memory.  The CIFAR-10 dataset consists of 5 batches, named `data_batch_1`, `data_batch_2`, etc.. Each batch contains the labels and images that are one of the following:\n",
    "* airplane\n",
    "* automobile\n",
    "* bird\n",
    "* cat\n",
    "* deer\n",
    "* dog\n",
    "* frog\n",
    "* horse\n",
    "* ship\n",
    "* truck\n",
    "\n",
    "Understanding a dataset is part of making predictions on the data.  Play around with the code cell below by changing the `batch_id` and `sample_id`. The `batch_id` is the id for a batch (1-5). The `sample_id` is the id for a image and label pair in the batch.\n",
    "\n",
    "Ask yourself \"What are all possible labels?\", \"What is the range of values for the image data?\", \"Are the labels in order or random?\".  Answers to questions like these will help you preprocess the data and end up with better predictions."
   ]
  },
  {
   "cell_type": "code",
   "execution_count": 2,
   "metadata": {
    "collapsed": false,
    "deletable": true,
    "editable": true
   },
   "outputs": [
    {
     "name": "stdout",
     "output_type": "stream",
     "text": [
      "\n",
      "Stats of batch 1:\n",
      "Samples: 10000\n",
      "Label Counts: {0: 1005, 1: 974, 2: 1032, 3: 1016, 4: 999, 5: 937, 6: 1030, 7: 1001, 8: 1025, 9: 981}\n",
      "First 20 Labels: [6, 9, 9, 4, 1, 1, 2, 7, 8, 3, 4, 7, 7, 2, 9, 9, 9, 3, 2, 6]\n",
      "\n",
      "Example of Image 5:\n",
      "Image - Min Value: 0 Max Value: 252\n",
      "Image - Shape: (32, 32, 3)\n",
      "Label - Label Id: 1 Name: automobile\n"
     ]
    },
    {
     "data": {
      "image/png": "[encoded data removed]",
      "text/plain": [
       "<matplotlib.figure.Figure at 0x7f55613ffa20>"
      ]
     },
     "metadata": {
      "image/png": {
       "height": 250,
       "width": 253
      }
     },
     "output_type": "display_data"
    }
   ],
   "source": [
    "%matplotlib inline\n",
    "%config InlineBackend.figure_format = 'retina'\n",
    "\n",
    "import helper\n",
    "import numpy as np\n",
    "\n",
    "# Explore the dataset\n",
    "batch_id = 1\n",
    "sample_id = 5\n",
    "helper.display_stats(cifar10_dataset_folder_path, batch_id, sample_id)"
   ]
  },
  {
   "cell_type": "markdown",
   "metadata": {
    "deletable": true,
    "editable": true
   },
   "source": [
    "## Implement Preprocess Functions\n",
    "### Normalize\n",
    "In the cell below, implement the `normalize` function to take in image data, `x`, and return it as a normalized Numpy array. The values should be in the range of 0 to 1, inclusive.  The return object should be the same shape as `x`."
   ]
  },
  {
   "cell_type": "code",
   "execution_count": 3,
   "metadata": {
    "collapsed": false,
    "deletable": true,
    "editable": true
   },
   "outputs": [
    {
     "name": "stdout",
     "output_type": "stream",
     "text": [
      "Tests Passed\n"
     ]
    }
   ],
   "source": [
    "def normalize(x):\n",
    "    \"\"\"\n",
    "    Normalize a list of sample image data in the range of 0 to 1\n",
    "    : x: List of image data.  The image shape is (32, 32, 3)\n",
    "    : return: Numpy array of normalize data\n",
    "    \"\"\"\n",
    "    # TODO: Implement Function\n",
    "    import numpy as np\n",
    "    x = np.array(x)\n",
    "    xmin = x.min()\n",
    "    xmax = x.max()\n",
    "    x = (x - xmin) / (xmax - xmin)\n",
    "    return x\n",
    "\n",
    "\"\"\"\n",
    "DON'T MODIFY ANYTHING IN THIS CELL THAT IS BELOW THIS LINE\n",
    "\"\"\"\n",
    "tests.test_normalize(normalize)"
   ]
  },
  {
   "cell_type": "markdown",
   "metadata": {
    "deletable": true,
    "editable": true
   },
   "source": [
    "### One-hot encode\n",
    "Just like the previous code cell, you'll be implementing a function for preprocessing.  This time, you'll implement the `one_hot_encode` function. The input, `x`, are a list of labels.  Implement the function to return the list of labels as One-Hot encoded Numpy array.  The possible values for labels are 0 to 9. The one-hot encoding function should return the same encoding for each value between each call to `one_hot_encode`.  Make sure to save the map of encodings outside the function.\n",
    "\n",
    "Hint: Don't reinvent the wheel."
   ]
  },
  {
   "cell_type": "code",
   "execution_count": 4,
   "metadata": {
    "collapsed": false,
    "deletable": true,
    "editable": true
   },
   "outputs": [
    {
     "name": "stdout",
     "output_type": "stream",
     "text": [
      "Tests Passed\n"
     ]
    }
   ],
   "source": [
    "def one_hot_encode(x):\n",
    "    \"\"\"\n",
    "    One hot encode a list of sample labels. Return a one-hot encoded vector for each label.\n",
    "    : x: List of sample Labels\n",
    "    : return: Numpy array of one-hot encoded labels\n",
    "    \"\"\"\n",
    "    # TODO: Implement Function\n",
    "    import numpy as np\n",
    "    one_hot = np.eye(10)[x]\n",
    "    return one_hot\n",
    "\n",
    "\"\"\"\n",
    "DON'T MODIFY ANYTHING IN THIS CELL THAT IS BELOW THIS LINE\n",
    "\"\"\"\n",
    "tests.test_one_hot_encode(one_hot_encode)"
   ]
  },
  {
   "cell_type": "markdown",
   "metadata": {
    "deletable": true,
    "editable": true
   },
   "source": [
    "### Randomize Data\n",
    "As you saw from exploring the data above, the order of the samples are randomized.  It doesn't hurt to randomize it again, but you don't need to for this dataset."
   ]
  },
  {
   "cell_type": "markdown",
   "metadata": {
    "deletable": true,
    "editable": true
   },
   "source": [
    "## Preprocess all the data and save it\n",
    "Running the code cell below will preprocess all the CIFAR-10 data and save it to file. The code below also uses 10% of the training data for validation."
   ]
  },
  {
   "cell_type": "code",
   "execution_count": 5,
   "metadata": {
    "collapsed": false,
    "deletable": true,
    "editable": true
   },
   "outputs": [],
   "source": [
    "\"\"\"\n",
    "DON'T MODIFY ANYTHING IN THIS CELL\n",
    "\"\"\"\n",
    "# Preprocess Training, Validation, and Testing Data\n",
    "helper.preprocess_and_save_data(cifar10_dataset_folder_path, normalize, one_hot_encode)"
   ]
  },
  {
   "cell_type": "markdown",
   "metadata": {
    "deletable": true,
    "editable": true
   },
   "source": [
    "# Check Point\n",
    "This is your first checkpoint.  If you ever decide to come back to this notebook or have to restart the notebook, you can start from here.  The preprocessed data has been saved to disk."
   ]
  },
  {
   "cell_type": "code",
   "execution_count": 6,
   "metadata": {
    "collapsed": true,
    "deletable": true,
    "editable": true
   },
   "outputs": [],
   "source": [
    "\"\"\"\n",
    "DON'T MODIFY ANYTHING IN THIS CELL\n",
    "\"\"\"\n",
    "import pickle\n",
    "import problem_unittests as tests\n",
    "import helper\n",
    "\n",
    "# Load the Preprocessed Validation data\n",
    "valid_features, valid_labels = pickle.load(open('preprocess_validation.p', mode='rb'))"
   ]
  },
  {
   "cell_type": "markdown",
   "metadata": {
    "deletable": true,
    "editable": true
   },
   "source": [
    "## Build the network\n",
    "For the neural network, you'll build each layer into a function.  Most of the code you've seen has been outside of functions. To test your code more thoroughly, we require that you put each layer in a function.  This allows us to give you better feedback and test for simple mistakes using our unittests before you submit your project.\n",
    "\n",
    ">**Note:** If you're finding it hard to dedicate enough time for this course each week, we've provided a small shortcut to this part of the project. In the next couple of problems, you'll have the option to use classes from the [TensorFlow Layers](https://www.tensorflow.org/api_docs/python/tf/layers) or [TensorFlow Layers (contrib)](https://www.tensorflow.org/api_guides/python/contrib.layers) packages to build each layer, except the layers you build in the \"Convolutional and Max Pooling Layer\" section.  TF Layers is similar to Keras's and TFLearn's abstraction to layers, so it's easy to pickup.\n",
    "\n",
    ">However, if you would like to get the most out of this course, try to solve all the problems _without_ using anything from the TF Layers packages. You **can** still use classes from other packages that happen to have the same name as ones you find in TF Layers! For example, instead of using the TF Layers version of the `conv2d` class, [tf.layers.conv2d](https://www.tensorflow.org/api_docs/python/tf/layers/conv2d), you would want to use the TF Neural Network version of `conv2d`, [tf.nn.conv2d](https://www.tensorflow.org/api_docs/python/tf/nn/conv2d). \n",
    "\n",
    "Let's begin!\n",
    "\n",
    "### Input\n",
    "The neural network needs to read the image data, one-hot encoded labels, and dropout keep probability. Implement the following functions\n",
    "* Implement `neural_net_image_input`\n",
    " * Return a [TF Placeholder](https://www.tensorflow.org/api_docs/python/tf/placeholder)\n",
    " * Set the shape using `image_shape` with batch size set to `None`.\n",
    " * Name the TensorFlow placeholder \"x\" using the TensorFlow `name` parameter in the [TF Placeholder](https://www.tensorflow.org/api_docs/python/tf/placeholder).\n",
    "* Implement `neural_net_label_input`\n",
    " * Return a [TF Placeholder](https://www.tensorflow.org/api_docs/python/tf/placeholder)\n",
    " * Set the shape using `n_classes` with batch size set to `None`.\n",
    " * Name the TensorFlow placeholder \"y\" using the TensorFlow `name` parameter in the [TF Placeholder](https://www.tensorflow.org/api_docs/python/tf/placeholder).\n",
    "* Implement `neural_net_keep_prob_input`\n",
    " * Return a [TF Placeholder](https://www.tensorflow.org/api_docs/python/tf/placeholder) for dropout keep probability.\n",
    " * Name the TensorFlow placeholder \"keep_prob\" using the TensorFlow `name` parameter in the [TF Placeholder](https://www.tensorflow.org/api_docs/python/tf/placeholder).\n",
    "\n",
    "These names will be used at the end of the project to load your saved model.\n",
    "\n",
    "Note: `None` for shapes in TensorFlow allow for a dynamic size."
   ]
  },
  {
   "cell_type": "code",
   "execution_count": 9,
   "metadata": {
    "collapsed": false,
    "deletable": true,
    "editable": true
   },
   "outputs": [
    {
     "name": "stdout",
     "output_type": "stream",
     "text": [
      "Image Input Tests Passed.\n",
      "Label Input Tests Passed.\n",
      "Keep Prob Tests Passed.\n"
     ]
    }
   ],
   "source": [
    "import tensorflow as tf\n",
    "\n",
    "def neural_net_image_input(image_shape):\n",
    "    \"\"\"\n",
    "    Return a Tensor for a bach of image input\n",
    "    : image_shape: Shape of the images\n",
    "    : return: Tensor for image input.\n",
    "    \"\"\"\n",
    "    # TODO: Implement Function\n",
    "    return tf.placeholder(tf.float32, [None, image_shape[0], image_shape[1], image_shape[2]], name =\"x\")\n",
    "\n",
    "\n",
    "def neural_net_label_input(n_classes):\n",
    "    \"\"\"\n",
    "    Return a Tensor for a batch of label input\n",
    "    : n_classes: Number of classes\n",
    "    : return: Tensor for label input.\n",
    "    \"\"\"\n",
    "    # TODO: Implement Function\n",
    "    return tf.placeholder(tf.float32, [None, n_classes], name=\"y\")\n",
    "\n",
    "\n",
    "def neural_net_keep_prob_input():\n",
    "    \"\"\"\n",
    "    Return a Tensor for keep probability\n",
    "    : return: Tensor for keep probability.\n",
    "    \"\"\"\n",
    "    # TODO: Implement Function\n",
    "    return tf.placeholder(tf.float32, name=\"keep_prob\")\n",
    "\n",
    "\n",
    "\"\"\"\n",
    "DON'T MODIFY ANYTHING IN THIS CELL THAT IS BELOW THIS LINE\n",
    "\"\"\"\n",
    "tf.reset_default_graph()\n",
    "tests.test_nn_image_inputs(neural_net_image_input)\n",
    "tests.test_nn_label_inputs(neural_net_label_input)\n",
    "tests.test_nn_keep_prob_inputs(neural_net_keep_prob_input)"
   ]
  },
  {
   "cell_type": "markdown",
   "metadata": {
    "deletable": true,
    "editable": true
   },
   "source": [
    "### Convolution and Max Pooling Layer\n",
    "Convolution layers have a lot of success with images. For this code cell, you should implement the function `conv2d_maxpool` to apply convolution then max pooling:\n",
    "* Create the weight and bias using `conv_ksize`, `conv_num_outputs` and the shape of `x_tensor`.\n",
    "* Apply a convolution to `x_tensor` using weight and `conv_strides`.\n",
    " * We recommend you use same padding, but you're welcome to use any padding.\n",
    "* Add bias\n",
    "* Add a nonlinear activation to the convolution.\n",
    "* Apply Max Pooling using `pool_ksize` and `pool_strides`.\n",
    " * We recommend you use same padding, but you're welcome to use any padding.\n",
    "\n",
    "**Note:** You **can't** use [TensorFlow Layers](https://www.tensorflow.org/api_docs/python/tf/layers) or [TensorFlow Layers (contrib)](https://www.tensorflow.org/api_guides/python/contrib.layers) for **this** layer, but you can still use TensorFlow's [Neural Network](https://www.tensorflow.org/api_docs/python/tf/nn) package. You may still use the shortcut option for all the **other** layers."
   ]
  },
  {
   "cell_type": "code",
   "execution_count": 12,
   "metadata": {
    "collapsed": false,
    "deletable": true,
    "editable": true
   },
   "outputs": [
    {
     "name": "stdout",
     "output_type": "stream",
     "text": [
      "Tests Passed\n"
     ]
    }
   ],
   "source": [
    "def conv2d_maxpool(x_tensor, conv_num_outputs, conv_ksize, conv_strides, pool_ksize, pool_strides):\n",
    "    \"\"\"\n",
    "    Apply convolution then max pooling to x_tensor\n",
    "    :param x_tensor: TensorFlow Tensor\n",
    "    :param conv_num_outputs: Number of outputs for the convolutional layer\n",
    "    :param conv_ksize: kernal size 2-D Tuple for the convolutional layer\n",
    "    :param conv_strides: Stride 2-D Tuple for convolution\n",
    "    :param pool_ksize: kernal size 2-D Tuple for pool\n",
    "    :param pool_strides: Stride 2-D Tuple for pool\n",
    "    : return: A tensor that represents convolution and max pooling of x_tensor\n",
    "    \"\"\"\n",
    "    # TODO: Implement Function\n",
    "    filter_height = conv_ksize[0]\n",
    "    filter_width = conv_ksize[1]\n",
    "    color_channels = x_tensor.get_shape().as_list()[-1]\n",
    "\n",
    "    weights = tf.Variable(tf.truncated_normal([filter_height, filter_width, color_channels, conv_num_outputs], stddev=0.01))\n",
    "    biases = tf.Variable(tf.zeros([conv_num_outputs], dtype=tf.float32))\n",
    "    \n",
    "    conv_strides = [1, conv_strides[0], conv_strides[1], 1]\n",
    "    x_tensor = tf.nn.conv2d(x_tensor, weights, strides=conv_strides, padding='VALID')\n",
    "    \n",
    "    x_tensor = tf.nn.bias_add(x_tensor, biases)\n",
    "    \n",
    "    x_tensor = tf.nn.relu(x_tensor)\n",
    "    \n",
    "    pool_strides = [1, pool_strides[0], pool_strides[1], 1]\n",
    "    pool_ksize = [1, pool_ksize[0], pool_ksize[1], 1]\n",
    "    x_tensor = tf.nn.max_pool(x_tensor, pool_ksize, pool_strides, padding='VALID')\n",
    "    \n",
    "    return x_tensor\n",
    "\n",
    "\n",
    "\"\"\"\n",
    "DON'T MODIFY ANYTHING IN THIS CELL THAT IS BELOW THIS LINE\n",
    "\"\"\"\n",
    "tests.test_con_pool(conv2d_maxpool)"
   ]
  },
  {
   "cell_type": "markdown",
   "metadata": {
    "deletable": true,
    "editable": true
   },
   "source": [
    "### Flatten Layer\n",
    "Implement the `flatten` function to change the dimension of `x_tensor` from a 4-D tensor to a 2-D tensor.  The output should be the shape (*Batch Size*, *Flattened Image Size*). Shortcut option: you can use classes from the [TensorFlow Layers](https://www.tensorflow.org/api_docs/python/tf/layers) or [TensorFlow Layers (contrib)](https://www.tensorflow.org/api_guides/python/contrib.layers) packages for this layer. For more of a challenge, only use other TensorFlow packages."
   ]
  },
  {
   "cell_type": "code",
   "execution_count": 14,
   "metadata": {
    "collapsed": false,
    "deletable": true,
    "editable": true
   },
   "outputs": [
    {
     "name": "stdout",
     "output_type": "stream",
     "text": [
      "Tests Passed\n"
     ]
    }
   ],
   "source": [
    "def flatten(x_tensor):\n",
    "    \"\"\"\n",
    "    Flatten x_tensor to (Batch Size, Flattened Image Size)\n",
    "    : x_tensor: A tensor of size (Batch Size, ...), where ... are the image dimensions.\n",
    "    : return: A tensor of size (Batch Size, Flattened Image Size).\n",
    "    \"\"\"\n",
    "    # TODO: Implement Function\n",
    "    shape = x_tensor.get_shape().as_list()\n",
    "    size = shape[1] * shape[2] * shape[3]\n",
    "    return tf.reshape(x_tensor, [-1, size])\n",
    "\n",
    "\n",
    "\"\"\"\n",
    "DON'T MODIFY ANYTHING IN THIS CELL THAT IS BELOW THIS LINE\n",
    "\"\"\"\n",
    "tests.test_flatten(flatten)"
   ]
  },
  {
   "cell_type": "markdown",
   "metadata": {
    "deletable": true,
    "editable": true
   },
   "source": [
    "### Fully-Connected Layer\n",
    "Implement the `fully_conn` function to apply a fully connected layer to `x_tensor` with the shape (*Batch Size*, *num_outputs*). Shortcut option: you can use classes from the [TensorFlow Layers](https://www.tensorflow.org/api_docs/python/tf/layers) or [TensorFlow Layers (contrib)](https://www.tensorflow.org/api_guides/python/contrib.layers) packages for this layer. For more of a challenge, only use other TensorFlow packages."
   ]
  },
  {
   "cell_type": "code",
   "execution_count": 16,
   "metadata": {
    "collapsed": false,
    "deletable": true,
    "editable": true
   },
   "outputs": [
    {
     "name": "stdout",
     "output_type": "stream",
     "text": [
      "Tests Passed\n"
     ]
    }
   ],
   "source": [
    "def fully_conn(x_tensor, num_outputs):\n",
    "    \"\"\"\n",
    "    Apply a fully connected layer to x_tensor using weight and bias\n",
    "    : x_tensor: A 2-D tensor where the first dimension is batch size.\n",
    "    : num_outputs: The number of output that the new tensor should be.\n",
    "    : return: A 2-D tensor where the second dimension is num_outputs.\n",
    "    \"\"\"\n",
    "    # TODO: Implement Function\n",
    "    return tf.contrib.layers.fully_connected(inputs = x_tensor, num_outputs=num_outputs)\n",
    "\n",
    "\n",
    "\"\"\"\n",
    "DON'T MODIFY ANYTHING IN THIS CELL THAT IS BELOW THIS LINE\n",
    "\"\"\"\n",
    "tests.test_fully_conn(fully_conn)"
   ]
  },
  {
   "cell_type": "markdown",
   "metadata": {
    "deletable": true,
    "editable": true
   },
   "source": [
    "### Output Layer\n",
    "Implement the `output` function to apply a fully connected layer to `x_tensor` with the shape (*Batch Size*, *num_outputs*). Shortcut option: you can use classes from the [TensorFlow Layers](https://www.tensorflow.org/api_docs/python/tf/layers) or [TensorFlow Layers (contrib)](https://www.tensorflow.org/api_guides/python/contrib.layers) packages for this layer. For more of a challenge, only use other TensorFlow packages.\n",
    "\n",
    "**Note:** Activation, softmax, or cross entropy should **not** be applied to this."
   ]
  },
  {
   "cell_type": "code",
   "execution_count": 18,
   "metadata": {
    "collapsed": false,
    "deletable": true,
    "editable": true
   },
   "outputs": [
    {
     "name": "stdout",
     "output_type": "stream",
     "text": [
      "Tests Passed\n"
     ]
    }
   ],
   "source": [
    "def output(x_tensor, num_outputs):\n",
    "    \"\"\"\n",
    "    Apply a output layer to x_tensor using weight and bias\n",
    "    : x_tensor: A 2-D tensor where the first dimension is batch size.\n",
    "    : num_outputs: The number of output that the new tensor should be.\n",
    "    : return: A 2-D tensor where the second dimension is num_outputs.\n",
    "    \"\"\"\n",
    "    # TODO: Implement Function\n",
    "    return tf.contrib.layers.fully_connected(inputs = x_tensor, num_outputs=num_outputs)\n",
    "\n",
    "\n",
    "\"\"\"\n",
    "DON'T MODIFY ANYTHING IN THIS CELL THAT IS BELOW THIS LINE\n",
    "\"\"\"\n",
    "tests.test_output(output)"
   ]
  },
  {
   "cell_type": "markdown",
   "metadata": {
    "deletable": true,
    "editable": true
   },
   "source": [
    "### Create Convolutional Model\n",
    "Implement the function `conv_net` to create a convolutional neural network model. The function takes in a batch of images, `x`, and outputs logits.  Use the layers you created above to create this model:\n",
    "\n",
    "* Apply 1, 2, or 3 Convolution and Max Pool layers\n",
    "* Apply a Flatten Layer\n",
    "* Apply 1, 2, or 3 Fully Connected Layers\n",
    "* Apply an Output Layer\n",
    "* Return the output\n",
    "* Apply [TensorFlow's Dropout](https://www.tensorflow.org/api_docs/python/tf/nn/dropout) to one or more layers in the model using `keep_prob`. "
   ]
  },
  {
   "cell_type": "code",
   "execution_count": 20,
   "metadata": {
    "collapsed": false,
    "deletable": true,
    "editable": true
   },
   "outputs": [
    {
     "name": "stdout",
     "output_type": "stream",
     "text": [
      "Neural Network Built!\n"
     ]
    }
   ],
   "source": [
    "def conv_net(x, keep_prob):\n",
    "    \"\"\"\n",
    "    Create a convolutional neural network model\n",
    "    : x: Placeholder tensor that holds image data.\n",
    "    : keep_prob: Placeholder tensor that hold dropout keep probability.\n",
    "    : return: Tensor that represents logits\n",
    "    \"\"\"\n",
    "    # TODO: Apply 1, 2, or 3 Convolution and Max Pool layers\n",
    "    #    Play around with different number of outputs, kernel size and stride\n",
    "    # Function Definition from Above:\n",
    "    #    conv2d_maxpool(x_tensor, conv_num_outputs, conv_ksize, conv_strides, pool_ksize, pool_strides)\n",
    "    conv1 = conv2d_maxpool(x,       256, (8,8), (2,2), (4,4), (2,2))\n",
    "\n",
    "    # conv2 = conv2d_maxpool(conv1,   128, (4,4), (1,1), (2,2), (2,2))\n",
    "    # conv3 = conv2d_maxpool(conv1,  64, (1,1), (1,1), (1,1), (2,2))\n",
    "    \n",
    "    convd = tf.nn.dropout(conv1, keep_prob)\n",
    "    \n",
    "    # TODO: Apply a Flatten Layer\n",
    "    # Function Definition from Above:\n",
    "    #   flatten(x_tensor)\n",
    "    flatconv = flatten(convd)\n",
    "\n",
    "    # TODO: Apply 1, 2, or 3 Fully Connected Layers\n",
    "    #    Play around with different number of outputs\n",
    "    # Function Definition from Above:\n",
    "    #   fully_conn(x_tensor, num_outputs)\n",
    "    fcconv1 = fully_conn(flatconv, 256)\n",
    "    fcconv2 = fully_conn(fcconv1, 128)\n",
    "    fcconv3 = fully_conn(fcconv2, 64)\n",
    "    fcconvd1 = tf.nn.dropout(fcconv3, keep_prob)\n",
    "\n",
    "    \n",
    "    # TODO: Apply an Output Layer\n",
    "    #    Set this to the number of classes\n",
    "    # Function Definition from Above:\n",
    "    #   output(x_tensor, num_outputs)\n",
    "    x_tensor = output(fcconvd1, 10)\n",
    "    \n",
    "    # TODO: return output\n",
    "    return x_tensor\n",
    "\n",
    "\n",
    "\"\"\"\n",
    "DON'T MODIFY ANYTHING IN THIS CELL THAT IS BELOW THIS LINE\n",
    "\"\"\"\n",
    "\n",
    "##############################\n",
    "## Build the Neural Network ##\n",
    "##############################\n",
    "\n",
    "# Remove previous weights, bias, inputs, etc..\n",
    "tf.reset_default_graph()\n",
    "\n",
    "# Inputs\n",
    "x = neural_net_image_input((32, 32, 3))\n",
    "y = neural_net_label_input(10)\n",
    "keep_prob = neural_net_keep_prob_input()\n",
    "\n",
    "# Model\n",
    "logits = conv_net(x, keep_prob)\n",
    "\n",
    "# Name logits Tensor, so that is can be loaded from disk after training\n",
    "logits = tf.identity(logits, name='logits')\n",
    "\n",
    "# Loss and Optimizer\n",
    "cost = tf.reduce_mean(tf.nn.softmax_cross_entropy_with_logits(logits=logits, labels=y))\n",
    "optimizer = tf.train.AdamOptimizer().minimize(cost)\n",
    "\n",
    "# Accuracy\n",
    "correct_pred = tf.equal(tf.argmax(logits, 1), tf.argmax(y, 1))\n",
    "accuracy = tf.reduce_mean(tf.cast(correct_pred, tf.float32), name='accuracy')\n",
    "\n",
    "tests.test_conv_net(conv_net)"
   ]
  },
  {
   "cell_type": "markdown",
   "metadata": {
    "deletable": true,
    "editable": true
   },
   "source": [
    "## Train the Neural Network\n",
    "### Single Optimization\n",
    "Implement the function `train_neural_network` to do a single optimization.  The optimization should use `optimizer` to optimize in `session` with a `feed_dict` of the following:\n",
    "* `x` for image input\n",
    "* `y` for labels\n",
    "* `keep_prob` for keep probability for dropout\n",
    "\n",
    "This function will be called for each batch, so `tf.global_variables_initializer()` has already been called.\n",
    "\n",
    "Note: Nothing needs to be returned. This function is only optimizing the neural network."
   ]
  },
  {
   "cell_type": "code",
   "execution_count": 21,
   "metadata": {
    "collapsed": false,
    "deletable": true,
    "editable": true
   },
   "outputs": [
    {
     "name": "stdout",
     "output_type": "stream",
     "text": [
      "Tests Passed\n"
     ]
    }
   ],
   "source": [
    "def train_neural_network(session, optimizer, keep_probability, feature_batch, label_batch):\n",
    "    \"\"\"\n",
    "    Optimize the session on a batch of images and labels\n",
    "    : session: Current TensorFlow session\n",
    "    : optimizer: TensorFlow optimizer function\n",
    "    : keep_probability: keep probability\n",
    "    : feature_batch: Batch of Numpy image data\n",
    "    : label_batch: Batch of Numpy label data\n",
    "    \"\"\"\n",
    "    # TODO: Implement Function\n",
    "    session.run(optimizer, feed_dict={x: feature_batch, y: label_batch, keep_prob: keep_probability})\n",
    "\n",
    "\n",
    "\"\"\"\n",
    "DON'T MODIFY ANYTHING IN THIS CELL THAT IS BELOW THIS LINE\n",
    "\"\"\"\n",
    "tests.test_train_nn(train_neural_network)"
   ]
  },
  {
   "cell_type": "markdown",
   "metadata": {
    "deletable": true,
    "editable": true
   },
   "source": [
    "### Show Stats\n",
    "Implement the function `print_stats` to print loss and validation accuracy.  Use the global variables `valid_features` and `valid_labels` to calculate validation accuracy.  Use a keep probability of `1.0` to calculate the loss and validation accuracy."
   ]
  },
  {
   "cell_type": "code",
   "execution_count": 23,
   "metadata": {
    "collapsed": false,
    "deletable": true,
    "editable": true
   },
   "outputs": [],
   "source": [
    "def print_stats(session, feature_batch, label_batch, cost, accuracy):\n",
    "    \"\"\"\n",
    "    Print information about loss and validation accuracy\n",
    "    : session: Current TensorFlow session\n",
    "    : feature_batch: Batch of Numpy image data\n",
    "    : label_batch: Batch of Numpy label data\n",
    "    : cost: TensorFlow cost function\n",
    "    : accuracy: TensorFlow accuracy function\n",
    "    \"\"\"\n",
    "    # TODO: Implement Function\n",
    "    loss = session.run(cost, feed_dict={x: feature_batch, y: label_batch, keep_prob: 1.0})\n",
    "    accuracy = session.run(accuracy, feed_dict={x: valid_features, y: valid_labels, keep_prob: 1.0})\n",
    "    print(\"Loss: {}\".format(loss))\n",
    "    print(\"Accuracy: {}\".format(accuracy))\n"
   ]
  },
  {
   "cell_type": "markdown",
   "metadata": {
    "deletable": true,
    "editable": true
   },
   "source": [
    "### Hyperparameters\n",
    "Tune the following parameters:\n",
    "* Set `epochs` to the number of iterations until the network stops learning or start overfitting\n",
    "* Set `batch_size` to the highest number that your machine has memory for.  Most people set them to common sizes of memory:\n",
    " * 64\n",
    " * 128\n",
    " * 256\n",
    " * ...\n",
    "* Set `keep_probability` to the probability of keeping a node using dropout"
   ]
  },
  {
   "cell_type": "code",
   "execution_count": 24,
   "metadata": {
    "collapsed": true,
    "deletable": true,
    "editable": true
   },
   "outputs": [],
   "source": [
    "# TODO: Tune Parameters\n",
    "epochs = 40\n",
    "batch_size = 256\n",
    "keep_probability = 0.5"
   ]
  },
  {
   "cell_type": "markdown",
   "metadata": {
    "deletable": true,
    "editable": true
   },
   "source": [
    "### Train on a Single CIFAR-10 Batch\n",
    "Instead of training the neural network on all the CIFAR-10 batches of data, let's use a single batch. This should save time while you iterate on the model to get a better accuracy.  Once the final validation accuracy is 50% or greater, run the model on all the data in the next section."
   ]
  },
  {
   "cell_type": "code",
   "execution_count": 25,
   "metadata": {
    "collapsed": false,
    "deletable": true,
    "editable": true
   },
   "outputs": [
    {
     "name": "stdout",
     "output_type": "stream",
     "text": [
      "Checking the Training on a Single Batch...\n",
      "Epoch  1, CIFAR-10 Batch 1:  Loss: 2.2641360759735107\n",
      "Accuracy: 0.17879998683929443\n",
      "Epoch  2, CIFAR-10 Batch 1:  Loss: 2.2379608154296875\n",
      "Accuracy: 0.22019997239112854\n",
      "Epoch  3, CIFAR-10 Batch 1:  Loss: 2.184340238571167\n",
      "Accuracy: 0.27859997749328613\n",
      "Epoch  4, CIFAR-10 Batch 1:  Loss: 2.0926289558410645\n",
      "Accuracy: 0.3571999967098236\n",
      "Epoch  5, CIFAR-10 Batch 1:  Loss: 1.9298359155654907\n",
      "Accuracy: 0.36959993839263916\n",
      "Epoch  6, CIFAR-10 Batch 1:  Loss: 1.8574151992797852\n",
      "Accuracy: 0.39959999918937683\n",
      "Epoch  7, CIFAR-10 Batch 1:  Loss: 1.7830469608306885\n",
      "Accuracy: 0.40299996733665466\n",
      "Epoch  8, CIFAR-10 Batch 1:  Loss: 1.6511540412902832\n",
      "Accuracy: 0.41599997878074646\n",
      "Epoch  9, CIFAR-10 Batch 1:  Loss: 1.4551308155059814\n",
      "Accuracy: 0.44499996304512024\n",
      "Epoch 10, CIFAR-10 Batch 1:  Loss: 1.359135389328003\n",
      "Accuracy: 0.4633999764919281\n",
      "Epoch 11, CIFAR-10 Batch 1:  Loss: 1.3417304754257202\n",
      "Accuracy: 0.4691999554634094\n",
      "Epoch 12, CIFAR-10 Batch 1:  Loss: 1.246631383895874\n",
      "Accuracy: 0.45399996638298035\n",
      "Epoch 13, CIFAR-10 Batch 1:  Loss: 1.1614290475845337\n",
      "Accuracy: 0.4635999798774719\n",
      "Epoch 14, CIFAR-10 Batch 1:  Loss: 1.1539922952651978\n",
      "Accuracy: 0.47919997572898865\n",
      "Epoch 15, CIFAR-10 Batch 1:  Loss: 1.1460137367248535\n",
      "Accuracy: 0.4779999554157257\n",
      "Epoch 16, CIFAR-10 Batch 1:  Loss: 1.0939058065414429\n",
      "Accuracy: 0.47599995136260986\n",
      "Epoch 17, CIFAR-10 Batch 1:  Loss: 1.0148924589157104\n",
      "Accuracy: 0.4899999499320984\n",
      "Epoch 18, CIFAR-10 Batch 1:  Loss: 0.929453432559967\n",
      "Accuracy: 0.5011999607086182\n",
      "Epoch 19, CIFAR-10 Batch 1:  Loss: 0.9715915322303772\n",
      "Accuracy: 0.480599969625473\n",
      "Epoch 20, CIFAR-10 Batch 1:  Loss: 0.8982104063034058\n",
      "Accuracy: 0.5071999430656433\n",
      "Epoch 21, CIFAR-10 Batch 1:  Loss: 0.8937138319015503\n",
      "Accuracy: 0.5109999179840088\n",
      "Epoch 22, CIFAR-10 Batch 1:  Loss: 0.8555034399032593\n",
      "Accuracy: 0.5055999755859375\n",
      "Epoch 23, CIFAR-10 Batch 1:  Loss: 0.8407315611839294\n",
      "Accuracy: 0.5053999423980713\n",
      "Epoch 24, CIFAR-10 Batch 1:  Loss: 0.7330936193466187\n",
      "Accuracy: 0.5061999559402466\n",
      "Epoch 25, CIFAR-10 Batch 1:  Loss: 0.7494668364524841\n",
      "Accuracy: 0.5277999639511108\n",
      "Epoch 26, CIFAR-10 Batch 1:  Loss: 0.7130622267723083\n",
      "Accuracy: 0.5041999816894531\n",
      "Epoch 27, CIFAR-10 Batch 1:  Loss: 0.6998401284217834\n",
      "Accuracy: 0.5287999510765076\n",
      "Epoch 28, CIFAR-10 Batch 1:  Loss: 0.6732600331306458\n",
      "Accuracy: 0.5017999410629272\n",
      "Epoch 29, CIFAR-10 Batch 1:  Loss: 0.6548240184783936\n",
      "Accuracy: 0.5163999199867249\n",
      "Epoch 30, CIFAR-10 Batch 1:  Loss: 0.6769590973854065\n",
      "Accuracy: 0.5065999627113342\n",
      "Epoch 31, CIFAR-10 Batch 1:  Loss: 0.5750412940979004\n",
      "Accuracy: 0.5353999733924866\n",
      "Epoch 32, CIFAR-10 Batch 1:  Loss: 0.5276344418525696\n",
      "Accuracy: 0.5179999470710754\n",
      "Epoch 33, CIFAR-10 Batch 1:  Loss: 0.48857471346855164\n",
      "Accuracy: 0.5287999510765076\n",
      "Epoch 34, CIFAR-10 Batch 1:  Loss: 0.5067766904830933\n",
      "Accuracy: 0.5351999402046204\n",
      "Epoch 35, CIFAR-10 Batch 1:  Loss: 0.5230785608291626\n",
      "Accuracy: 0.5201999545097351\n",
      "Epoch 36, CIFAR-10 Batch 1:  Loss: 0.48836496472358704\n",
      "Accuracy: 0.5383999347686768\n",
      "Epoch 37, CIFAR-10 Batch 1:  Loss: 0.46240806579589844\n",
      "Accuracy: 0.5415999293327332\n",
      "Epoch 38, CIFAR-10 Batch 1:  Loss: 0.45130839943885803\n",
      "Accuracy: 0.5513999462127686\n",
      "Epoch 39, CIFAR-10 Batch 1:  Loss: 0.4256949722766876\n",
      "Accuracy: 0.5481999516487122\n",
      "Epoch 40, CIFAR-10 Batch 1:  Loss: 0.3983764350414276\n",
      "Accuracy: 0.5415998697280884\n"
     ]
    }
   ],
   "source": [
    "\"\"\"\n",
    "DON'T MODIFY ANYTHING IN THIS CELL\n",
    "\"\"\"\n",
    "print('Checking the Training on a Single Batch...')\n",
    "\n",
    "config = tf.ConfigProto()\n",
    "config.gpu_options.allocator_type = 'BFC'\n",
    "  \n",
    "with tf.Session(config = config) as sess:\n",
    "    # Initializing the variables\n",
    "    sess.run(tf.global_variables_initializer())\n",
    "    \n",
    "    # Training cycle\n",
    "    for epoch in range(epochs):\n",
    "        batch_i = 1\n",
    "        for batch_features, batch_labels in helper.load_preprocess_training_batch(batch_i, batch_size):\n",
    "            train_neural_network(sess, optimizer, keep_probability, batch_features, batch_labels)\n",
    "        print('Epoch {:>2}, CIFAR-10 Batch {}:  '.format(epoch + 1, batch_i), end='')\n",
    "        print_stats(sess, batch_features, batch_labels, cost, accuracy)"
   ]
  },
  {
   "cell_type": "markdown",
   "metadata": {
    "deletable": true,
    "editable": true
   },
   "source": [
    "### Fully Train the Model\n",
    "Now that you got a good accuracy with a single CIFAR-10 batch, try it with all five batches."
   ]
  },
  {
   "cell_type": "code",
   "execution_count": 26,
   "metadata": {
    "collapsed": false,
    "deletable": true,
    "editable": true
   },
   "outputs": [
    {
     "name": "stdout",
     "output_type": "stream",
     "text": [
      "Training...\n",
      "Epoch  1, CIFAR-10 Batch 1:  Loss: 2.2470149993896484\n",
      "Accuracy: 0.23899999260902405\n",
      "Epoch  1, CIFAR-10 Batch 2:  Loss: 2.163748264312744\n",
      "Accuracy: 0.30219998955726624\n",
      "Epoch  1, CIFAR-10 Batch 3:  Loss: 1.832771897315979\n",
      "Accuracy: 0.32179999351501465\n",
      "Epoch  1, CIFAR-10 Batch 4:  Loss: 1.6766042709350586\n",
      "Accuracy: 0.3912000060081482\n",
      "Epoch  1, CIFAR-10 Batch 5:  Loss: 1.620790958404541\n",
      "Accuracy: 0.43119996786117554\n",
      "Epoch  2, CIFAR-10 Batch 1:  Loss: 1.853715419769287\n",
      "Accuracy: 0.44599997997283936\n",
      "Epoch  2, CIFAR-10 Batch 2:  Loss: 1.676839828491211\n",
      "Accuracy: 0.4445999562740326\n",
      "Epoch  2, CIFAR-10 Batch 3:  Loss: 1.316727638244629\n",
      "Accuracy: 0.4323999881744385\n",
      "Epoch  2, CIFAR-10 Batch 4:  Loss: 1.4598445892333984\n",
      "Accuracy: 0.4399999976158142\n",
      "Epoch  2, CIFAR-10 Batch 5:  Loss: 1.4526187181472778\n",
      "Accuracy: 0.462399959564209\n",
      "Epoch  3, CIFAR-10 Batch 1:  Loss: 1.6221338510513306\n",
      "Accuracy: 0.46539998054504395\n",
      "Epoch  3, CIFAR-10 Batch 2:  Loss: 1.452003836631775\n",
      "Accuracy: 0.45879995822906494\n",
      "Epoch  3, CIFAR-10 Batch 3:  Loss: 1.141091227531433\n",
      "Accuracy: 0.47339996695518494\n",
      "Epoch  3, CIFAR-10 Batch 4:  Loss: 1.36293363571167\n",
      "Accuracy: 0.4803999662399292\n",
      "Epoch  3, CIFAR-10 Batch 5:  Loss: 1.3731609582901\n",
      "Accuracy: 0.47759994864463806\n",
      "Epoch  4, CIFAR-10 Batch 1:  Loss: 1.5248794555664062\n",
      "Accuracy: 0.48559996485710144\n",
      "Epoch  4, CIFAR-10 Batch 2:  Loss: 1.3307722806930542\n",
      "Accuracy: 0.46859994530677795\n",
      "Epoch  4, CIFAR-10 Batch 3:  Loss: 1.0784485340118408\n",
      "Accuracy: 0.49779996275901794\n",
      "Epoch  4, CIFAR-10 Batch 4:  Loss: 1.2851309776306152\n",
      "Accuracy: 0.4999999403953552\n",
      "Epoch  4, CIFAR-10 Batch 5:  Loss: 1.2617720365524292\n",
      "Accuracy: 0.5053999423980713\n",
      "Epoch  5, CIFAR-10 Batch 1:  Loss: 1.3978370428085327\n",
      "Accuracy: 0.5119999051094055\n",
      "Epoch  5, CIFAR-10 Batch 2:  Loss: 1.240181565284729\n",
      "Accuracy: 0.5161999464035034\n",
      "Epoch  5, CIFAR-10 Batch 3:  Loss: 1.0132936239242554\n",
      "Accuracy: 0.5077999234199524\n",
      "Epoch  5, CIFAR-10 Batch 4:  Loss: 1.2065259218215942\n",
      "Accuracy: 0.528999924659729\n",
      "Epoch  5, CIFAR-10 Batch 5:  Loss: 1.1902191638946533\n",
      "Accuracy: 0.5165999531745911\n",
      "Epoch  6, CIFAR-10 Batch 1:  Loss: 1.2706952095031738\n",
      "Accuracy: 0.5189999341964722\n",
      "Epoch  6, CIFAR-10 Batch 2:  Loss: 1.1161997318267822\n",
      "Accuracy: 0.5339999794960022\n",
      "Epoch  6, CIFAR-10 Batch 3:  Loss: 0.9166008830070496\n",
      "Accuracy: 0.540199875831604\n",
      "Epoch  6, CIFAR-10 Batch 4:  Loss: 1.1441168785095215\n",
      "Accuracy: 0.5491999387741089\n",
      "Epoch  6, CIFAR-10 Batch 5:  Loss: 1.0738825798034668\n",
      "Accuracy: 0.5309998989105225\n",
      "Epoch  7, CIFAR-10 Batch 1:  Loss: 1.1573524475097656\n",
      "Accuracy: 0.5605999231338501\n",
      "Epoch  7, CIFAR-10 Batch 2:  Loss: 1.0725375413894653\n",
      "Accuracy: 0.5055999755859375\n",
      "Epoch  7, CIFAR-10 Batch 3:  Loss: 0.8933606147766113\n",
      "Accuracy: 0.5345999002456665\n",
      "Epoch  7, CIFAR-10 Batch 4:  Loss: 1.0285649299621582\n",
      "Accuracy: 0.5513999462127686\n",
      "Epoch  7, CIFAR-10 Batch 5:  Loss: 1.0673868656158447\n",
      "Accuracy: 0.5363999605178833\n",
      "Epoch  8, CIFAR-10 Batch 1:  Loss: 1.0699100494384766\n",
      "Accuracy: 0.5503999590873718\n",
      "Epoch  8, CIFAR-10 Batch 2:  Loss: 0.9440088272094727\n",
      "Accuracy: 0.5463999509811401\n",
      "Epoch  8, CIFAR-10 Batch 3:  Loss: 0.7604573369026184\n",
      "Accuracy: 0.5655999183654785\n",
      "Epoch  8, CIFAR-10 Batch 4:  Loss: 0.9896613359451294\n",
      "Accuracy: 0.5687999129295349\n",
      "Epoch  8, CIFAR-10 Batch 5:  Loss: 0.948536217212677\n",
      "Accuracy: 0.5717999339103699\n",
      "Epoch  9, CIFAR-10 Batch 1:  Loss: 1.0056588649749756\n",
      "Accuracy: 0.5821999311447144\n",
      "Epoch  9, CIFAR-10 Batch 2:  Loss: 0.8351017236709595\n",
      "Accuracy: 0.574199914932251\n",
      "Epoch  9, CIFAR-10 Batch 3:  Loss: 0.7255187034606934\n",
      "Accuracy: 0.5763999223709106\n",
      "Epoch  9, CIFAR-10 Batch 4:  Loss: 0.9225232005119324\n",
      "Accuracy: 0.5745999217033386\n",
      "Epoch  9, CIFAR-10 Batch 5:  Loss: 0.8896422386169434\n",
      "Accuracy: 0.5703999400138855\n",
      "Epoch 10, CIFAR-10 Batch 1:  Loss: 0.8973681926727295\n",
      "Accuracy: 0.5773999691009521\n",
      "Epoch 10, CIFAR-10 Batch 2:  Loss: 0.7994823455810547\n",
      "Accuracy: 0.5887998938560486\n",
      "Epoch 10, CIFAR-10 Batch 3:  Loss: 0.6233412027359009\n",
      "Accuracy: 0.5865999460220337\n",
      "Epoch 10, CIFAR-10 Batch 4:  Loss: 0.8463408350944519\n",
      "Accuracy: 0.5883998870849609\n",
      "Epoch 10, CIFAR-10 Batch 5:  Loss: 0.8050163388252258\n",
      "Accuracy: 0.5825998783111572\n",
      "Epoch 11, CIFAR-10 Batch 1:  Loss: 0.8597855567932129\n",
      "Accuracy: 0.6005998253822327\n",
      "Epoch 11, CIFAR-10 Batch 2:  Loss: 0.7314512729644775\n",
      "Accuracy: 0.5737999081611633\n",
      "Epoch 11, CIFAR-10 Batch 3:  Loss: 0.585309624671936\n",
      "Accuracy: 0.5909999012947083\n",
      "Epoch 11, CIFAR-10 Batch 4:  Loss: 0.7773221731185913\n",
      "Accuracy: 0.5959999561309814\n",
      "Epoch 11, CIFAR-10 Batch 5:  Loss: 0.740559458732605\n",
      "Accuracy: 0.6049999594688416\n",
      "Epoch 12, CIFAR-10 Batch 1:  Loss: 0.8029119968414307\n",
      "Accuracy: 0.5959999561309814\n",
      "Epoch 12, CIFAR-10 Batch 2:  Loss: 0.6907285451889038\n",
      "Accuracy: 0.5995999574661255\n",
      "Epoch 12, CIFAR-10 Batch 3:  Loss: 0.5688236951828003\n",
      "Accuracy: 0.596799910068512\n",
      "Epoch 12, CIFAR-10 Batch 4:  Loss: 0.711158037185669\n",
      "Accuracy: 0.6039998531341553\n",
      "Epoch 12, CIFAR-10 Batch 5:  Loss: 0.6536487936973572\n",
      "Accuracy: 0.6085999011993408\n",
      "Epoch 13, CIFAR-10 Batch 1:  Loss: 0.8472740650177002\n",
      "Accuracy: 0.5805999636650085\n",
      "Epoch 13, CIFAR-10 Batch 2:  Loss: 0.7045738697052002\n",
      "Accuracy: 0.5935999155044556\n",
      "Epoch 13, CIFAR-10 Batch 3:  Loss: 0.48828262090682983\n",
      "Accuracy: 0.613399863243103\n",
      "Epoch 13, CIFAR-10 Batch 4:  Loss: 0.6662153005599976\n",
      "Accuracy: 0.6115999221801758\n",
      "Epoch 13, CIFAR-10 Batch 5:  Loss: 0.6190263032913208\n",
      "Accuracy: 0.5903999209403992\n",
      "Epoch 14, CIFAR-10 Batch 1:  Loss: 0.6883174180984497\n",
      "Accuracy: 0.6033998727798462\n",
      "Epoch 14, CIFAR-10 Batch 2:  Loss: 0.6404479742050171\n",
      "Accuracy: 0.6173999309539795\n",
      "Epoch 14, CIFAR-10 Batch 3:  Loss: 0.42387765645980835\n",
      "Accuracy: 0.6157999038696289\n",
      "Epoch 14, CIFAR-10 Batch 4:  Loss: 0.6215258836746216\n",
      "Accuracy: 0.6181999444961548\n",
      "Epoch 14, CIFAR-10 Batch 5:  Loss: 0.5694931149482727\n",
      "Accuracy: 0.619999885559082\n",
      "Epoch 15, CIFAR-10 Batch 1:  Loss: 0.6053230166435242\n",
      "Accuracy: 0.6179999113082886\n",
      "Epoch 15, CIFAR-10 Batch 2:  Loss: 0.5528486967086792\n",
      "Accuracy: 0.6229999661445618\n",
      "Epoch 15, CIFAR-10 Batch 3:  Loss: 0.40682095289230347\n",
      "Accuracy: 0.6179999113082886\n",
      "Epoch 15, CIFAR-10 Batch 4:  Loss: 0.5606738328933716\n",
      "Accuracy: 0.6233999729156494\n",
      "Epoch 15, CIFAR-10 Batch 5:  Loss: 0.5054295659065247\n",
      "Accuracy: 0.6101999282836914\n",
      "Epoch 16, CIFAR-10 Batch 1:  Loss: 0.5785861611366272\n",
      "Accuracy: 0.6263999342918396\n",
      "Epoch 16, CIFAR-10 Batch 2:  Loss: 0.5760133266448975\n",
      "Accuracy: 0.6351999044418335\n",
      "Epoch 16, CIFAR-10 Batch 3:  Loss: 0.3323267698287964\n",
      "Accuracy: 0.6237999200820923\n",
      "Epoch 16, CIFAR-10 Batch 4:  Loss: 0.5078483819961548\n",
      "Accuracy: 0.626599907875061\n",
      "Epoch 16, CIFAR-10 Batch 5:  Loss: 0.48858222365379333\n",
      "Accuracy: 0.6239998936653137\n",
      "Epoch 17, CIFAR-10 Batch 1:  Loss: 0.568575382232666\n",
      "Accuracy: 0.616399884223938\n",
      "Epoch 17, CIFAR-10 Batch 2:  Loss: 0.47909995913505554\n",
      "Accuracy: 0.6385998725891113\n",
      "Epoch 17, CIFAR-10 Batch 3:  Loss: 0.32594409584999084\n",
      "Accuracy: 0.6279999017715454\n",
      "Epoch 17, CIFAR-10 Batch 4:  Loss: 0.4900549352169037\n",
      "Accuracy: 0.6243999004364014\n",
      "Epoch 17, CIFAR-10 Batch 5:  Loss: 0.47105103731155396\n",
      "Accuracy: 0.6263998746871948\n",
      "Epoch 18, CIFAR-10 Batch 1:  Loss: 0.5218539237976074\n",
      "Accuracy: 0.6339999437332153\n",
      "Epoch 18, CIFAR-10 Batch 2:  Loss: 0.46083223819732666\n",
      "Accuracy: 0.6251999139785767\n",
      "Epoch 18, CIFAR-10 Batch 3:  Loss: 0.29579639434814453\n",
      "Accuracy: 0.6263998746871948\n",
      "Epoch 18, CIFAR-10 Batch 4:  Loss: 0.4739770293235779\n",
      "Accuracy: 0.6333998441696167\n",
      "Epoch 18, CIFAR-10 Batch 5:  Loss: 0.45166224241256714\n",
      "Accuracy: 0.632599949836731\n",
      "Epoch 19, CIFAR-10 Batch 1:  Loss: 0.48069047927856445\n",
      "Accuracy: 0.6345998644828796\n",
      "Epoch 19, CIFAR-10 Batch 2:  Loss: 0.4172538220882416\n",
      "Accuracy: 0.6495999097824097\n",
      "Epoch 19, CIFAR-10 Batch 3:  Loss: 0.24218055605888367\n",
      "Accuracy: 0.6345998644828796\n",
      "Epoch 19, CIFAR-10 Batch 4:  Loss: 0.4912760257720947\n",
      "Accuracy: 0.6285998821258545\n",
      "Epoch 19, CIFAR-10 Batch 5:  Loss: 0.408355176448822\n",
      "Accuracy: 0.6309998631477356\n",
      "Epoch 20, CIFAR-10 Batch 1:  Loss: 0.4621899724006653\n",
      "Accuracy: 0.6447998881340027\n",
      "Epoch 20, CIFAR-10 Batch 2:  Loss: 0.41166043281555176\n",
      "Accuracy: 0.6489999294281006\n",
      "Epoch 20, CIFAR-10 Batch 3:  Loss: 0.27257585525512695\n",
      "Accuracy: 0.6373999118804932\n",
      "Epoch 20, CIFAR-10 Batch 4:  Loss: 0.4700111150741577\n",
      "Accuracy: 0.6431998610496521\n",
      "Epoch 20, CIFAR-10 Batch 5:  Loss: 0.3724086582660675\n",
      "Accuracy: 0.6351999044418335\n",
      "Epoch 21, CIFAR-10 Batch 1:  Loss: 0.4428344964981079\n",
      "Accuracy: 0.6321999430656433\n",
      "Epoch 21, CIFAR-10 Batch 2:  Loss: 0.36550721526145935\n",
      "Accuracy: 0.6469998955726624\n",
      "Epoch 21, CIFAR-10 Batch 3:  Loss: 0.22692981362342834\n",
      "Accuracy: 0.6347998380661011\n",
      "Epoch 21, CIFAR-10 Batch 4:  Loss: 0.4082561731338501\n",
      "Accuracy: 0.64739990234375\n",
      "Epoch 21, CIFAR-10 Batch 5:  Loss: 0.31104832887649536\n",
      "Accuracy: 0.637199878692627\n",
      "Epoch 22, CIFAR-10 Batch 1:  Loss: 0.40774184465408325\n",
      "Accuracy: 0.6429998874664307\n",
      "Epoch 22, CIFAR-10 Batch 2:  Loss: 0.3716700077056885\n",
      "Accuracy: 0.643799901008606\n",
      "Epoch 22, CIFAR-10 Batch 3:  Loss: 0.18866229057312012\n",
      "Accuracy: 0.6461998820304871\n",
      "Epoch 22, CIFAR-10 Batch 4:  Loss: 0.3702479898929596\n",
      "Accuracy: 0.6481998562812805\n",
      "Epoch 22, CIFAR-10 Batch 5:  Loss: 0.32771429419517517\n",
      "Accuracy: 0.6375999450683594\n",
      "Epoch 23, CIFAR-10 Batch 1:  Loss: 0.44655150175094604\n",
      "Accuracy: 0.650999903678894\n",
      "Epoch 23, CIFAR-10 Batch 2:  Loss: 0.2992144823074341\n",
      "Accuracy: 0.649199903011322\n",
      "Epoch 23, CIFAR-10 Batch 3:  Loss: 0.18969833850860596\n",
      "Accuracy: 0.644399881362915\n",
      "Epoch 23, CIFAR-10 Batch 4:  Loss: 0.33866459131240845\n",
      "Accuracy: 0.6493998765945435\n",
      "Epoch 23, CIFAR-10 Batch 5:  Loss: 0.28069576621055603\n",
      "Accuracy: 0.6573998928070068\n",
      "Epoch 24, CIFAR-10 Batch 1:  Loss: 0.39879757165908813\n",
      "Accuracy: 0.6557998657226562\n",
      "Epoch 24, CIFAR-10 Batch 2:  Loss: 0.3009314239025116\n",
      "Accuracy: 0.6497998833656311\n",
      "Epoch 24, CIFAR-10 Batch 3:  Loss: 0.20839039981365204\n",
      "Accuracy: 0.6469998955726624\n",
      "Epoch 24, CIFAR-10 Batch 4:  Loss: 0.3349204957485199\n",
      "Accuracy: 0.6571999192237854\n",
      "Epoch 24, CIFAR-10 Batch 5:  Loss: 0.2572219967842102\n",
      "Accuracy: 0.6457998752593994\n",
      "Epoch 25, CIFAR-10 Batch 1:  Loss: 0.3849298655986786\n",
      "Accuracy: 0.6557998657226562\n",
      "Epoch 25, CIFAR-10 Batch 2:  Loss: 0.2941522002220154\n",
      "Accuracy: 0.6565999388694763\n",
      "Epoch 25, CIFAR-10 Batch 3:  Loss: 0.18932323157787323\n",
      "Accuracy: 0.6409999132156372\n",
      "Epoch 25, CIFAR-10 Batch 4:  Loss: 0.30732017755508423\n",
      "Accuracy: 0.6557998657226562\n",
      "Epoch 25, CIFAR-10 Batch 5:  Loss: 0.2532532811164856\n",
      "Accuracy: 0.6591998934745789\n",
      "Epoch 26, CIFAR-10 Batch 1:  Loss: 0.354027658700943\n",
      "Accuracy: 0.6529998779296875\n",
      "Epoch 26, CIFAR-10 Batch 2:  Loss: 0.2884833812713623\n",
      "Accuracy: 0.6553998589515686\n",
      "Epoch 26, CIFAR-10 Batch 3:  Loss: 0.19278354942798615\n",
      "Accuracy: 0.6431999206542969\n",
      "Epoch 26, CIFAR-10 Batch 4:  Loss: 0.29395002126693726\n",
      "Accuracy: 0.6439999341964722\n",
      "Epoch 26, CIFAR-10 Batch 5:  Loss: 0.20287242531776428\n",
      "Accuracy: 0.66159987449646\n",
      "Epoch 27, CIFAR-10 Batch 1:  Loss: 0.33771052956581116\n",
      "Accuracy: 0.6559998989105225\n",
      "Epoch 27, CIFAR-10 Batch 2:  Loss: 0.3201523721218109\n",
      "Accuracy: 0.6563999652862549\n",
      "Epoch 27, CIFAR-10 Batch 3:  Loss: 0.15512733161449432\n",
      "Accuracy: 0.6577998399734497\n",
      "Epoch 27, CIFAR-10 Batch 4:  Loss: 0.33847323060035706\n",
      "Accuracy: 0.6463999152183533\n",
      "Epoch 27, CIFAR-10 Batch 5:  Loss: 0.2273983359336853\n",
      "Accuracy: 0.6509998440742493\n",
      "Epoch 28, CIFAR-10 Batch 1:  Loss: 0.32499292492866516\n",
      "Accuracy: 0.6497998237609863\n",
      "Epoch 28, CIFAR-10 Batch 2:  Loss: 0.2617785632610321\n",
      "Accuracy: 0.6659998297691345\n",
      "Epoch 28, CIFAR-10 Batch 3:  Loss: 0.14825516939163208\n",
      "Accuracy: 0.6515998840332031\n",
      "Epoch 28, CIFAR-10 Batch 4:  Loss: 0.3208398222923279\n",
      "Accuracy: 0.6573998928070068\n",
      "Epoch 28, CIFAR-10 Batch 5:  Loss: 0.18764840066432953\n",
      "Accuracy: 0.6543999314308167\n",
      "Epoch 29, CIFAR-10 Batch 1:  Loss: 0.3112199306488037\n",
      "Accuracy: 0.6469998955726624\n",
      "Epoch 29, CIFAR-10 Batch 2:  Loss: 0.28246355056762695\n",
      "Accuracy: 0.6607998609542847\n",
      "Epoch 29, CIFAR-10 Batch 3:  Loss: 0.17718063294887543\n",
      "Accuracy: 0.6501998901367188\n",
      "Epoch 29, CIFAR-10 Batch 4:  Loss: 0.2986224889755249\n",
      "Accuracy: 0.6571998596191406\n",
      "Epoch 29, CIFAR-10 Batch 5:  Loss: 0.17868705093860626\n",
      "Accuracy: 0.6647998690605164\n",
      "Epoch 30, CIFAR-10 Batch 1:  Loss: 0.30863967537879944\n",
      "Accuracy: 0.6561998724937439\n",
      "Epoch 30, CIFAR-10 Batch 2:  Loss: 0.27222171425819397\n",
      "Accuracy: 0.6511999368667603\n",
      "Epoch 30, CIFAR-10 Batch 3:  Loss: 0.1486847996711731\n",
      "Accuracy: 0.6531998515129089\n",
      "Epoch 30, CIFAR-10 Batch 4:  Loss: 0.25531384348869324\n",
      "Accuracy: 0.6603999137878418\n",
      "Epoch 30, CIFAR-10 Batch 5:  Loss: 0.15893620252609253\n",
      "Accuracy: 0.6625998616218567\n",
      "Epoch 31, CIFAR-10 Batch 1:  Loss: 0.23837611079216003\n",
      "Accuracy: 0.6599999070167542\n",
      "Epoch 31, CIFAR-10 Batch 2:  Loss: 0.26343610882759094\n",
      "Accuracy: 0.6513999104499817\n",
      "Epoch 31, CIFAR-10 Batch 3:  Loss: 0.1263757348060608\n",
      "Accuracy: 0.6669999361038208\n",
      "Epoch 31, CIFAR-10 Batch 4:  Loss: 0.2316197156906128\n",
      "Accuracy: 0.6603999137878418\n",
      "Epoch 31, CIFAR-10 Batch 5:  Loss: 0.14871695637702942\n",
      "Accuracy: 0.6577999591827393\n",
      "Epoch 32, CIFAR-10 Batch 1:  Loss: 0.3024440407752991\n",
      "Accuracy: 0.6695998311042786\n",
      "Epoch 32, CIFAR-10 Batch 2:  Loss: 0.24903036653995514\n",
      "Accuracy: 0.6603999137878418\n",
      "Epoch 32, CIFAR-10 Batch 3:  Loss: 0.12797784805297852\n",
      "Accuracy: 0.6565998792648315\n",
      "Epoch 32, CIFAR-10 Batch 4:  Loss: 0.22519734501838684\n",
      "Accuracy: 0.6671999096870422\n",
      "Epoch 32, CIFAR-10 Batch 5:  Loss: 0.19376322627067566\n",
      "Accuracy: 0.6633999347686768\n",
      "Epoch 33, CIFAR-10 Batch 1:  Loss: 0.248787522315979\n",
      "Accuracy: 0.663399875164032\n",
      "Epoch 33, CIFAR-10 Batch 2:  Loss: 0.23977892100811005\n",
      "Accuracy: 0.6691998839378357\n",
      "Epoch 33, CIFAR-10 Batch 3:  Loss: 0.10566695034503937\n",
      "Accuracy: 0.6629998683929443\n",
      "Epoch 33, CIFAR-10 Batch 4:  Loss: 0.23093494772911072\n",
      "Accuracy: 0.6505998969078064\n",
      "Epoch 33, CIFAR-10 Batch 5:  Loss: 0.14304614067077637\n",
      "Accuracy: 0.6633998155593872\n",
      "Epoch 34, CIFAR-10 Batch 1:  Loss: 0.23244531452655792\n",
      "Accuracy: 0.6565998792648315\n",
      "Epoch 34, CIFAR-10 Batch 2:  Loss: 0.2171693593263626\n",
      "Accuracy: 0.6643999218940735\n",
      "Epoch 34, CIFAR-10 Batch 3:  Loss: 0.12367910891771317\n",
      "Accuracy: 0.650999903678894\n",
      "Epoch 34, CIFAR-10 Batch 4:  Loss: 0.20320124924182892\n",
      "Accuracy: 0.6623998880386353\n",
      "Epoch 34, CIFAR-10 Batch 5:  Loss: 0.09916572272777557\n",
      "Accuracy: 0.6677998900413513\n",
      "Epoch 35, CIFAR-10 Batch 1:  Loss: 0.24931496381759644\n",
      "Accuracy: 0.660399854183197\n",
      "Epoch 35, CIFAR-10 Batch 2:  Loss: 0.23395860195159912\n",
      "Accuracy: 0.6655999422073364\n",
      "Epoch 35, CIFAR-10 Batch 3:  Loss: 0.09108471870422363\n",
      "Accuracy: 0.6527999043464661\n",
      "Epoch 35, CIFAR-10 Batch 4:  Loss: 0.2129676640033722\n",
      "Accuracy: 0.6601998209953308\n",
      "Epoch 35, CIFAR-10 Batch 5:  Loss: 0.1129826009273529\n",
      "Accuracy: 0.6713998317718506\n",
      "Epoch 36, CIFAR-10 Batch 1:  Loss: 0.2703416645526886\n",
      "Accuracy: 0.6541998982429504\n",
      "Epoch 36, CIFAR-10 Batch 2:  Loss: 0.20494651794433594\n",
      "Accuracy: 0.6665998697280884\n",
      "Epoch 36, CIFAR-10 Batch 3:  Loss: 0.0805937647819519\n",
      "Accuracy: 0.6701998710632324\n",
      "Epoch 36, CIFAR-10 Batch 4:  Loss: 0.16768473386764526\n",
      "Accuracy: 0.6647998094558716\n",
      "Epoch 36, CIFAR-10 Batch 5:  Loss: 0.09138769656419754\n",
      "Accuracy: 0.671599805355072\n",
      "Epoch 37, CIFAR-10 Batch 1:  Loss: 0.2592998445034027\n",
      "Accuracy: 0.6601998209953308\n",
      "Epoch 37, CIFAR-10 Batch 2:  Loss: 0.19671772420406342\n",
      "Accuracy: 0.6693999171257019\n",
      "Epoch 37, CIFAR-10 Batch 3:  Loss: 0.0832282155752182\n",
      "Accuracy: 0.6659998893737793\n",
      "Epoch 37, CIFAR-10 Batch 4:  Loss: 0.16959920525550842\n",
      "Accuracy: 0.6711998581886292\n",
      "Epoch 37, CIFAR-10 Batch 5:  Loss: 0.11200270056724548\n",
      "Accuracy: 0.6743998527526855\n",
      "Epoch 38, CIFAR-10 Batch 1:  Loss: 0.19305355846881866\n",
      "Accuracy: 0.6547998189926147\n",
      "Epoch 38, CIFAR-10 Batch 2:  Loss: 0.2291092872619629\n",
      "Accuracy: 0.6667998433113098\n",
      "Epoch 38, CIFAR-10 Batch 3:  Loss: 0.10953803360462189\n",
      "Accuracy: 0.6649999022483826\n",
      "Epoch 38, CIFAR-10 Batch 4:  Loss: 0.1612805426120758\n",
      "Accuracy: 0.668199896812439\n",
      "Epoch 38, CIFAR-10 Batch 5:  Loss: 0.0948379784822464\n",
      "Accuracy: 0.6723998785018921\n",
      "Epoch 39, CIFAR-10 Batch 1:  Loss: 0.19420984387397766\n",
      "Accuracy: 0.6649999022483826\n",
      "Epoch 39, CIFAR-10 Batch 2:  Loss: 0.16933709383010864\n",
      "Accuracy: 0.6647998690605164\n",
      "Epoch 39, CIFAR-10 Batch 3:  Loss: 0.09926307946443558\n",
      "Accuracy: 0.6537998914718628\n",
      "Epoch 39, CIFAR-10 Batch 4:  Loss: 0.14362719655036926\n",
      "Accuracy: 0.6669999361038208\n",
      "Epoch 39, CIFAR-10 Batch 5:  Loss: 0.09706175327301025\n",
      "Accuracy: 0.6741998791694641\n",
      "Epoch 40, CIFAR-10 Batch 1:  Loss: 0.15683719515800476\n",
      "Accuracy: 0.6639999151229858\n",
      "Epoch 40, CIFAR-10 Batch 2:  Loss: 0.1838211566209793\n",
      "Accuracy: 0.6675999164581299\n",
      "Epoch 40, CIFAR-10 Batch 3:  Loss: 0.10013392567634583\n",
      "Accuracy: 0.6543999314308167\n",
      "Epoch 40, CIFAR-10 Batch 4:  Loss: 0.16324318945407867\n",
      "Accuracy: 0.6721999049186707\n",
      "Epoch 40, CIFAR-10 Batch 5:  Loss: 0.0847933441400528\n",
      "Accuracy: 0.6725997924804688\n"
     ]
    }
   ],
   "source": [
    "\"\"\"\n",
    "DON'T MODIFY ANYTHING IN THIS CELL\n",
    "\"\"\"\n",
    "save_model_path = './image_classification'\n",
    "\n",
    "config = tf.ConfigProto()\n",
    "config.gpu_options.allocator_type = 'BFC'\n",
    "\n",
    "print('Training...')\n",
    "with tf.Session( config = config) as sess:\n",
    "    # Initializing the variables\n",
    "    sess.run(tf.global_variables_initializer())\n",
    "    \n",
    "    # Training cycle\n",
    "    for epoch in range(epochs):\n",
    "        # Loop over all batches\n",
    "        n_batches = 5\n",
    "        for batch_i in range(1, n_batches + 1):\n",
    "            for batch_features, batch_labels in helper.load_preprocess_training_batch(batch_i, batch_size):\n",
    "                train_neural_network(sess, optimizer, keep_probability, batch_features, batch_labels)\n",
    "            print('Epoch {:>2}, CIFAR-10 Batch {}:  '.format(epoch + 1, batch_i), end='')\n",
    "            print_stats(sess, batch_features, batch_labels, cost, accuracy)\n",
    "            \n",
    "    # Save Model\n",
    "    saver = tf.train.Saver()\n",
    "    save_path = saver.save(sess, save_model_path)"
   ]
  },
  {
   "cell_type": "markdown",
   "metadata": {
    "deletable": true,
    "editable": true
   },
   "source": [
    "# Checkpoint\n",
    "The model has been saved to disk.\n",
    "## Test Model\n",
    "Test your model against the test dataset.  This will be your final accuracy. You should have an accuracy greater than 50%. If you don't, keep tweaking the model architecture and parameters."
   ]
  },
  {
   "cell_type": "code",
   "execution_count": 27,
   "metadata": {
    "collapsed": false,
    "deletable": true,
    "editable": true
   },
   "outputs": [
    {
     "name": "stdout",
     "output_type": "stream",
     "text": [
      "Testing Accuracy: 0.6771484375\n",
      "\n"
     ]
    },
    {
     "data": {
      "image/png": "[encoded data removed]",
      "text/plain": [
       "<matplotlib.figure.Figure at 0x7f55407d1128>"
      ]
     },
     "metadata": {
      "image/png": {
       "height": 319,
       "width": 355
      }
     },
     "output_type": "display_data"
    }
   ],
   "source": [
    "\"\"\"\n",
    "DON'T MODIFY ANYTHING IN THIS CELL\n",
    "\"\"\"\n",
    "%matplotlib inline\n",
    "%config InlineBackend.figure_format = 'retina'\n",
    "\n",
    "import tensorflow as tf\n",
    "import pickle\n",
    "import helper\n",
    "import random\n",
    "\n",
    "# Set batch size if not already set\n",
    "try:\n",
    "    if batch_size:\n",
    "        pass\n",
    "except NameError:\n",
    "    batch_size = 64\n",
    "\n",
    "save_model_path = './image_classification'\n",
    "n_samples = 4\n",
    "top_n_predictions = 3\n",
    "\n",
    "def test_model():\n",
    "    \"\"\"\n",
    "    Test the saved model against the test dataset\n",
    "    \"\"\"\n",
    "\n",
    "    test_features, test_labels = pickle.load(open('preprocess_training.p', mode='rb'))\n",
    "    loaded_graph = tf.Graph()\n",
    "\n",
    "    with tf.Session(graph=loaded_graph) as sess:\n",
    "        # Load model\n",
    "        loader = tf.train.import_meta_graph(save_model_path + '.meta')\n",
    "        loader.restore(sess, save_model_path)\n",
    "\n",
    "        # Get Tensors from loaded model\n",
    "        loaded_x = loaded_graph.get_tensor_by_name('x:0')\n",
    "        loaded_y = loaded_graph.get_tensor_by_name('y:0')\n",
    "        loaded_keep_prob = loaded_graph.get_tensor_by_name('keep_prob:0')\n",
    "        loaded_logits = loaded_graph.get_tensor_by_name('logits:0')\n",
    "        loaded_acc = loaded_graph.get_tensor_by_name('accuracy:0')\n",
    "        \n",
    "        # Get accuracy in batches for memory limitations\n",
    "        test_batch_acc_total = 0\n",
    "        test_batch_count = 0\n",
    "        \n",
    "        for train_feature_batch, train_label_batch in helper.batch_features_labels(test_features, test_labels, batch_size):\n",
    "            test_batch_acc_total += sess.run(\n",
    "                loaded_acc,\n",
    "                feed_dict={loaded_x: train_feature_batch, loaded_y: train_label_batch, loaded_keep_prob: 1.0})\n",
    "            test_batch_count += 1\n",
    "\n",
    "        print('Testing Accuracy: {}\\n'.format(test_batch_acc_total/test_batch_count))\n",
    "\n",
    "        # Print Random Samples\n",
    "        random_test_features, random_test_labels = tuple(zip(*random.sample(list(zip(test_features, test_labels)), n_samples)))\n",
    "        random_test_predictions = sess.run(\n",
    "            tf.nn.top_k(tf.nn.softmax(loaded_logits), top_n_predictions),\n",
    "            feed_dict={loaded_x: random_test_features, loaded_y: random_test_labels, loaded_keep_prob: 1.0})\n",
    "        helper.display_image_predictions(random_test_features, random_test_labels, random_test_predictions)\n",
    "\n",
    "\n",
    "test_model()"
   ]
  },
  {
   "cell_type": "markdown",
   "metadata": {
    "deletable": true,
    "editable": true
   },
   "source": [
    "## Why 50-70% Accuracy?\n",
    "You might be wondering why you can't get an accuracy any higher. First things first, 50% isn't bad for a simple CNN.  Pure guessing would get you 10% accuracy. However, you might notice people are getting scores [well above 70%](http://rodrigob.github.io/are_we_there_yet/build/classification_datasets_results.html#43494641522d3130).  That's because we haven't taught you all there is to know about neural networks. We still need to cover a few more techniques.\n",
    "## Submitting This Project\n",
    "When submitting this project, make sure to run all the cells before saving the notebook.  Save the notebook file as \"dlnd_image_classification.ipynb\" and save it as a HTML file under \"File\" -> \"Download as\".  Include the \"helper.py\" and \"problem_unittests.py\" files in your submission."
   ]
  },
  {
   "cell_type": "code",
   "execution_count": null,
   "metadata": {
    "collapsed": true
   },
   "outputs": [],
   "source": []
  }
 ],
 "metadata": {
  "kernelspec": {
   "display_name": "Python 3",
   "language": "python",
   "name": "python3"
  },
  "language_info": {
   "codemirror_mode": {
    "name": "ipython",
    "version": 3
   },
   "file_extension": ".py",
   "mimetype": "text/x-python",
   "name": "python",
   "nbconvert_exporter": "python",
   "pygments_lexer": "ipython3",
   "version": "3.5.2"
  },
  "widgets": {
   "state": {},
   "version": "1.1.2"
  }
 },
 "nbformat": 4,
 "nbformat_minor": 0
}
